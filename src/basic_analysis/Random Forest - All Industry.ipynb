{
 "cells": [
  {
   "cell_type": "code",
   "execution_count": 1,
   "metadata": {
    "collapsed": true
   },
   "outputs": [],
   "source": [
    "import pandas as pd\n",
    "import numpy as np\n",
    "import matplotlib.pyplot as plt\n",
    "%matplotlib inline"
   ]
  },
  {
   "cell_type": "code",
   "execution_count": 2,
   "metadata": {},
   "outputs": [
    {
     "data": {
      "text/html": [
       "<div>\n",
       "<style>\n",
       "    .dataframe thead tr:only-child th {\n",
       "        text-align: right;\n",
       "    }\n",
       "\n",
       "    .dataframe thead th {\n",
       "        text-align: left;\n",
       "    }\n",
       "\n",
       "    .dataframe tbody tr th {\n",
       "        vertical-align: top;\n",
       "    }\n",
       "</style>\n",
       "<table border=\"1\" class=\"dataframe\">\n",
       "  <thead>\n",
       "    <tr style=\"text-align: right;\">\n",
       "      <th></th>\n",
       "      <th>公司</th>\n",
       "      <th>date</th>\n",
       "      <th>code</th>\n",
       "      <th>TEJ子產業_名稱</th>\n",
       "      <th>Q資產報酬率 (C)</th>\n",
       "      <th>Q資產報酬率(A)%</th>\n",
       "      <th>Q資產報酬率(B)%</th>\n",
       "      <th>Q淨值報酬率─稅後</th>\n",
       "      <th>Q淨值報酬率─常續性利益</th>\n",
       "      <th>Q營業毛利率</th>\n",
       "      <th>...</th>\n",
       "      <th>Q淨值週轉率 (次)</th>\n",
       "      <th>Q應付帳款付現天數</th>\n",
       "      <th>Q淨營業週期 (日)</th>\n",
       "      <th>Q每人營收</th>\n",
       "      <th>Q每人營業利益</th>\n",
       "      <th>Q每人配備率</th>\n",
       "      <th>Q當季季底股價淨值比</th>\n",
       "      <th>Q當季季底 PSR</th>\n",
       "      <th>季底普通股市值</th>\n",
       "      <th>return</th>\n",
       "    </tr>\n",
       "  </thead>\n",
       "  <tbody>\n",
       "    <tr>\n",
       "      <th>0</th>\n",
       "      <td>1436 華友聯</td>\n",
       "      <td>2010-09-30</td>\n",
       "      <td>1436</td>\n",
       "      <td>建設</td>\n",
       "      <td>-0.16</td>\n",
       "      <td>1.48</td>\n",
       "      <td>-0.29</td>\n",
       "      <td>1.50</td>\n",
       "      <td>-0.96</td>\n",
       "      <td>41.96</td>\n",
       "      <td>...</td>\n",
       "      <td>0.00</td>\n",
       "      <td>14.16</td>\n",
       "      <td>39553.88</td>\n",
       "      <td>183.0</td>\n",
       "      <td>-244</td>\n",
       "      <td>1061.79</td>\n",
       "      <td>0.88</td>\n",
       "      <td>244.79</td>\n",
       "      <td>2970000.0</td>\n",
       "      <td>-0.003841</td>\n",
       "    </tr>\n",
       "    <tr>\n",
       "      <th>1</th>\n",
       "      <td>1438 裕豐</td>\n",
       "      <td>2010-09-30</td>\n",
       "      <td>1438</td>\n",
       "      <td>建設</td>\n",
       "      <td>2.65</td>\n",
       "      <td>2.52</td>\n",
       "      <td>2.52</td>\n",
       "      <td>146.64</td>\n",
       "      <td>146.50</td>\n",
       "      <td>76.40</td>\n",
       "      <td>...</td>\n",
       "      <td>3.15</td>\n",
       "      <td>5.59</td>\n",
       "      <td>1851.44</td>\n",
       "      <td>5900.0</td>\n",
       "      <td>3570</td>\n",
       "      <td>21.83</td>\n",
       "      <td>11.47</td>\n",
       "      <td>2.16</td>\n",
       "      <td>215063.0</td>\n",
       "      <td>0.020080</td>\n",
       "    </tr>\n",
       "    <tr>\n",
       "      <th>2</th>\n",
       "      <td>1442 名軒</td>\n",
       "      <td>2010-09-30</td>\n",
       "      <td>1442</td>\n",
       "      <td>建設</td>\n",
       "      <td>0.81</td>\n",
       "      <td>0.74</td>\n",
       "      <td>0.76</td>\n",
       "      <td>1.63</td>\n",
       "      <td>1.63</td>\n",
       "      <td>48.54</td>\n",
       "      <td>...</td>\n",
       "      <td>0.05</td>\n",
       "      <td>129.85</td>\n",
       "      <td>6209.94</td>\n",
       "      <td>2440.0</td>\n",
       "      <td>904</td>\n",
       "      <td>2230.65</td>\n",
       "      <td>1.63</td>\n",
       "      <td>2.09</td>\n",
       "      <td>3957303.0</td>\n",
       "      <td>0.032110</td>\n",
       "    </tr>\n",
       "    <tr>\n",
       "      <th>3</th>\n",
       "      <td>1453 大將</td>\n",
       "      <td>2010-09-30</td>\n",
       "      <td>1453</td>\n",
       "      <td>建設</td>\n",
       "      <td>1.95</td>\n",
       "      <td>1.72</td>\n",
       "      <td>1.92</td>\n",
       "      <td>2.78</td>\n",
       "      <td>2.53</td>\n",
       "      <td>11.07</td>\n",
       "      <td>...</td>\n",
       "      <td>0.35</td>\n",
       "      <td>6.51</td>\n",
       "      <td>156.89</td>\n",
       "      <td>1534.0</td>\n",
       "      <td>99</td>\n",
       "      <td>2631.16</td>\n",
       "      <td>0.96</td>\n",
       "      <td>1.18</td>\n",
       "      <td>527610.0</td>\n",
       "      <td>-0.071262</td>\n",
       "    </tr>\n",
       "    <tr>\n",
       "      <th>4</th>\n",
       "      <td>1805 寶徠</td>\n",
       "      <td>2010-09-30</td>\n",
       "      <td>1805</td>\n",
       "      <td>建設</td>\n",
       "      <td>-3.72</td>\n",
       "      <td>-4.40</td>\n",
       "      <td>-3.86</td>\n",
       "      <td>-8.75</td>\n",
       "      <td>-8.81</td>\n",
       "      <td>5.56</td>\n",
       "      <td>...</td>\n",
       "      <td>0.22</td>\n",
       "      <td>29.29</td>\n",
       "      <td>160.54</td>\n",
       "      <td>1040.0</td>\n",
       "      <td>-388</td>\n",
       "      <td>2772.03</td>\n",
       "      <td>1.64</td>\n",
       "      <td>1.07</td>\n",
       "      <td>580000.0</td>\n",
       "      <td>0.344828</td>\n",
       "    </tr>\n",
       "  </tbody>\n",
       "</table>\n",
       "<p>5 rows × 69 columns</p>\n",
       "</div>"
      ],
      "text/plain": [
       "         公司        date  code TEJ子產業_名稱  Q資產報酬率 (C)  Q資產報酬率(A)%  Q資產報酬率(B)%  \\\n",
       "0  1436 華友聯  2010-09-30  1436        建設       -0.16        1.48       -0.29   \n",
       "1   1438 裕豐  2010-09-30  1438        建設        2.65        2.52        2.52   \n",
       "2   1442 名軒  2010-09-30  1442        建設        0.81        0.74        0.76   \n",
       "3   1453 大將  2010-09-30  1453        建設        1.95        1.72        1.92   \n",
       "4   1805 寶徠  2010-09-30  1805        建設       -3.72       -4.40       -3.86   \n",
       "\n",
       "   Q淨值報酬率─稅後  Q淨值報酬率─常續性利益  Q營業毛利率    ...     Q淨值週轉率 (次)  Q應付帳款付現天數  \\\n",
       "0       1.50         -0.96   41.96    ...           0.00      14.16   \n",
       "1     146.64        146.50   76.40    ...           3.15       5.59   \n",
       "2       1.63          1.63   48.54    ...           0.05     129.85   \n",
       "3       2.78          2.53   11.07    ...           0.35       6.51   \n",
       "4      -8.75         -8.81    5.56    ...           0.22      29.29   \n",
       "\n",
       "   Q淨營業週期 (日)   Q每人營收  Q每人營業利益   Q每人配備率  Q當季季底股價淨值比  Q當季季底 PSR    季底普通股市值  \\\n",
       "0    39553.88   183.0     -244  1061.79        0.88     244.79  2970000.0   \n",
       "1     1851.44  5900.0     3570    21.83       11.47       2.16   215063.0   \n",
       "2     6209.94  2440.0      904  2230.65        1.63       2.09  3957303.0   \n",
       "3      156.89  1534.0       99  2631.16        0.96       1.18   527610.0   \n",
       "4      160.54  1040.0     -388  2772.03        1.64       1.07   580000.0   \n",
       "\n",
       "     return  \n",
       "0 -0.003841  \n",
       "1  0.020080  \n",
       "2  0.032110  \n",
       "3 -0.071262  \n",
       "4  0.344828  \n",
       "\n",
       "[5 rows x 69 columns]"
      ]
     },
     "execution_count": 2,
     "metadata": {},
     "output_type": "execute_result"
    }
   ],
   "source": [
    "data = pd.read_csv(\"data_set.csv\")\n",
    "data.head()"
   ]
  },
  {
   "cell_type": "code",
   "execution_count": 3,
   "metadata": {},
   "outputs": [
    {
     "data": {
      "text/plain": [
       "(834, 69)"
      ]
     },
     "execution_count": 3,
     "metadata": {},
     "output_type": "execute_result"
    }
   ],
   "source": [
    "data.shape"
   ]
  },
  {
   "cell_type": "code",
   "execution_count": 4,
   "metadata": {},
   "outputs": [
    {
     "data": {
      "text/plain": [
       "array(['建設', 'IC設計', '連接器', '零組件代理', '汽車組件'], dtype=object)"
      ]
     },
     "execution_count": 4,
     "metadata": {},
     "output_type": "execute_result"
    }
   ],
   "source": [
    "#產業類別清單\n",
    "data.TEJ子產業_名稱.unique()"
   ]
  },
  {
   "cell_type": "code",
   "execution_count": 5,
   "metadata": {
    "collapsed": true
   },
   "outputs": [],
   "source": [
    "#混淆矩陣 - 網路找到的\n",
    "import itertools\n",
    "\n",
    "def plot_confusion_matrix(cm, classes,\n",
    "                          normalize=False,\n",
    "                          title='Confusion matrix',\n",
    "                          cmap=plt.cm.Blues):\n",
    "    \"\"\"\n",
    "    This function prints and plots the confusion matrix.\n",
    "    Normalization can be applied by setting `normalize=True`.\n",
    "    \"\"\"\n",
    "    if normalize:\n",
    "        cm = cm.astype('float') / cm.sum(axis=1)[:, np.newaxis]\n",
    "        print(\"Normalized confusion matrix\")\n",
    "    else:\n",
    "        print('Confusion matrix, without normalization')\n",
    "\n",
    "    print(cm)\n",
    "\n",
    "    plt.imshow(cm, interpolation='nearest', cmap=cmap)\n",
    "    plt.title(title)\n",
    "    plt.colorbar()\n",
    "    tick_marks = np.arange(len(classes))\n",
    "    plt.xticks(tick_marks, classes) #, rotation=45\n",
    "    plt.yticks(tick_marks, classes)\n",
    "\n",
    "    fmt = '.2f' if normalize else 'd'\n",
    "    thresh = cm.max() / 2.\n",
    "    for i, j in itertools.product(range(cm.shape[0]), range(cm.shape[1])):\n",
    "        plt.text(j, i, format(cm[i, j], fmt),\n",
    "                 horizontalalignment=\"center\",\n",
    "                 color=\"white\" if cm[i, j] > thresh else \"black\")\n",
    "\n",
    "    plt.tight_layout()\n",
    "    plt.ylabel('True label')\n",
    "    plt.xlabel('Predicted label')"
   ]
  },
  {
   "cell_type": "markdown",
   "metadata": {},
   "source": [
    "# Random Forest"
   ]
  },
  {
   "cell_type": "markdown",
   "metadata": {},
   "source": [
    "## IC 設計"
   ]
  },
  {
   "cell_type": "code",
   "execution_count": 6,
   "metadata": {},
   "outputs": [
    {
     "data": {
      "text/plain": [
       "array([[<matplotlib.axes._subplots.AxesSubplot object at 0x00000297EB95E518>]], dtype=object)"
      ]
     },
     "execution_count": 6,
     "metadata": {},
     "output_type": "execute_result"
    },
    {
     "data": {
      "image/png": "[encoded data removed]",
      "text/plain": [
       "<matplotlib.figure.Figure at 0x297e9c4dcc0>"
      ]
     },
     "metadata": {},
     "output_type": "display_data"
    }
   ],
   "source": [
    "data = pd.read_csv(\"data_set.csv\")\n",
    "\n",
    "#將財報名稱中的Q剔除\n",
    "\n",
    "data_columns = np.array([data.columns]).reshape(len(data.columns), )\n",
    "\n",
    "for i in range(len(data_columns)):\n",
    "    if (data_columns[i][0] == \"Q\"):\n",
    "        data_columns[i] = data_columns[i][1:]\n",
    "    else:\n",
    "        data_columns[i] = data_columns[i]\n",
    "\n",
    "data.columns = data_columns\n",
    "\n",
    "#選擇產業類別\n",
    "\n",
    "data = data[data.TEJ子產業_名稱 == 'IC設計']\n",
    "\n",
    "data.drop([\"公司\", \"TEJ子產業_名稱\",\"date\", \"code\"], axis = 1, inplace = True)\n",
    "\n",
    "Return = np.array(data[\"return\"])\n",
    "\n",
    "for i in range(0, len(Return)):\n",
    "    if Return[i] < 0.1:\n",
    "        Return[i] = 1\n",
    "    else:\n",
    "        Return[i] =2\n",
    "##看各群組數量      \n",
    "pd.DataFrame(Return).hist()"
   ]
  },
  {
   "cell_type": "code",
   "execution_count": 7,
   "metadata": {
    "collapsed": true
   },
   "outputs": [],
   "source": [
    "#將return label拿掉\n",
    "X = data.drop(\"return\", axis = 1)\n",
    "\n",
    "#將data轉成array\n",
    "xx = np.zeros([len(data), 1])\n",
    "for ix in X.columns:\n",
    "    xx = np.append(xx, np.array(X[\"{}\".format(ix)]).reshape(len(data), 1), axis = 1)\n",
    "xx = xx[:, 1:]\n",
    "X = xx\n",
    "\n",
    "Y = Return"
   ]
  },
  {
   "cell_type": "code",
   "execution_count": 8,
   "metadata": {},
   "outputs": [
    {
     "name": "stdout",
     "output_type": "stream",
     "text": [
      "Accuracy_train : 82.17% \n",
      "Accuracy_test  : 82.14%\n"
     ]
    }
   ],
   "source": [
    "from sklearn.model_selection import train_test_split\n",
    "x_train, x_test, y_train, y_test =  train_test_split(X, Y, test_size = 0.3, random_state = 666)\n",
    "\n",
    "from sklearn.ensemble import RandomForestClassifier\n",
    "clf = RandomForestClassifier(criterion = \"gini\", \n",
    "                             n_estimators = 3,  \n",
    "                             random_state = 20, \n",
    "                             max_features = 0.7, \n",
    "                             max_depth = 7,      \n",
    "                             min_samples_leaf = 5) \n",
    "\n",
    "clf.fit(x_train, y_train)\n",
    "z = clf.predict(x_train)\n",
    "\n",
    "y_predict_test = clf.predict(x_test)\n",
    "\n",
    "from sklearn.metrics import accuracy_score\n",
    "\n",
    "train_acc = accuracy_score(y_train, z)\n",
    "test_acc = accuracy_score(y_test, y_predict_test)\n",
    "\n",
    "print(\"Accuracy_train : %.2f%%\" % (train_acc * 100.0),\"\\n\"\n",
    "      \"Accuracy_test  : %.2f%%\" % (test_acc * 100.0))"
   ]
  },
  {
   "cell_type": "code",
   "execution_count": 9,
   "metadata": {
    "collapsed": true
   },
   "outputs": [],
   "source": [
    "# from sklearn.model_selection import cross_val_score\n",
    "\n",
    "# clf = RandomForestClassifier(criterion = \"gini\", \n",
    "#                              n_estimators = 3,  \n",
    "#                              random_state = 20, \n",
    "#                              max_features = 0.7, \n",
    "#                              max_depth = 7,      \n",
    "#                              min_samples_leaf = 5)\n",
    "\n",
    "# scores = cross_val_score(clf, X, Y, cv = 10)\n",
    "# scores"
   ]
  },
  {
   "cell_type": "code",
   "execution_count": 10,
   "metadata": {
    "collapsed": true
   },
   "outputs": [],
   "source": [
    "# scores.mean(), scores.std()"
   ]
  },
  {
   "cell_type": "code",
   "execution_count": 11,
   "metadata": {},
   "outputs": [
    {
     "data": {
      "text/plain": [
       "array([[<matplotlib.axes._subplots.AxesSubplot object at 0x00000297EB95E940>]], dtype=object)"
      ]
     },
     "execution_count": 11,
     "metadata": {},
     "output_type": "execute_result"
    },
    {
     "data": {
      "image/png": "[encoded data removed]",
      "text/plain": [
       "<matplotlib.figure.Figure at 0x297eb93c5f8>"
      ]
     },
     "metadata": {},
     "output_type": "display_data"
    }
   ],
   "source": [
    "pd.DataFrame((y_predict_test - y_test)).hist()"
   ]
  },
  {
   "cell_type": "code",
   "execution_count": 12,
   "metadata": {},
   "outputs": [
    {
     "data": {
      "text/plain": [
       "array([[18,  5],\n",
       "       [ 5, 28]], dtype=int64)"
      ]
     },
     "execution_count": 12,
     "metadata": {},
     "output_type": "execute_result"
    }
   ],
   "source": [
    "from sklearn.metrics import confusion_matrix\n",
    "\n",
    "confusion_matrix(y_test, y_predict_test)"
   ]
  },
  {
   "cell_type": "code",
   "execution_count": 13,
   "metadata": {},
   "outputs": [
    {
     "name": "stdout",
     "output_type": "stream",
     "text": [
      "Normalized confusion matrix\n",
      "[[ 0.7826087   0.2173913 ]\n",
      " [ 0.15151515  0.84848485]]\n"
     ]
    },
    {
     "data": {
      "image/png": "[encoded data removed]",
      "text/plain": [
       "<matplotlib.figure.Figure at 0x297edc0a320>"
      ]
     },
     "metadata": {},
     "output_type": "display_data"
    }
   ],
   "source": [
    "plot_confusion_matrix(confusion_matrix(y_test, y_predict_test), classes = [\"1\", \"2\"], normalize = True)"
   ]
  },
  {
   "cell_type": "code",
   "execution_count": 14,
   "metadata": {},
   "outputs": [
    {
     "data": {
      "text/html": [
       "<div>\n",
       "<style>\n",
       "    .dataframe thead tr:only-child th {\n",
       "        text-align: right;\n",
       "    }\n",
       "\n",
       "    .dataframe thead th {\n",
       "        text-align: left;\n",
       "    }\n",
       "\n",
       "    .dataframe tbody tr th {\n",
       "        vertical-align: top;\n",
       "    }\n",
       "</style>\n",
       "<table border=\"1\" class=\"dataframe\">\n",
       "  <thead>\n",
       "    <tr style=\"text-align: right;\">\n",
       "      <th></th>\n",
       "      <th>0</th>\n",
       "      <th>1</th>\n",
       "    </tr>\n",
       "  </thead>\n",
       "  <tbody>\n",
       "    <tr>\n",
       "      <th>59</th>\n",
       "      <td>每人營業利益</td>\n",
       "      <td>0.115730</td>\n",
       "    </tr>\n",
       "    <tr>\n",
       "      <th>57</th>\n",
       "      <td>淨營業週期 (日)</td>\n",
       "      <td>0.109424</td>\n",
       "    </tr>\n",
       "    <tr>\n",
       "      <th>39</th>\n",
       "      <td>稅後淨利變動率(單季)</td>\n",
       "      <td>0.091094</td>\n",
       "    </tr>\n",
       "    <tr>\n",
       "      <th>61</th>\n",
       "      <td>當季季底股價淨值比</td>\n",
       "      <td>0.076388</td>\n",
       "    </tr>\n",
       "    <tr>\n",
       "      <th>34</th>\n",
       "      <td>總資產成長率</td>\n",
       "      <td>0.068717</td>\n",
       "    </tr>\n",
       "    <tr>\n",
       "      <th>2</th>\n",
       "      <td>資產報酬率(B)%</td>\n",
       "      <td>0.060817</td>\n",
       "    </tr>\n",
       "    <tr>\n",
       "      <th>16</th>\n",
       "      <td>稅率 (A)%</td>\n",
       "      <td>0.059657</td>\n",
       "    </tr>\n",
       "    <tr>\n",
       "      <th>55</th>\n",
       "      <td>淨值週轉率 (次)</td>\n",
       "      <td>0.059009</td>\n",
       "    </tr>\n",
       "    <tr>\n",
       "      <th>29</th>\n",
       "      <td>營業利益成長率</td>\n",
       "      <td>0.049233</td>\n",
       "    </tr>\n",
       "    <tr>\n",
       "      <th>21</th>\n",
       "      <td>每股現金流量</td>\n",
       "      <td>0.039745</td>\n",
       "    </tr>\n",
       "    <tr>\n",
       "      <th>40</th>\n",
       "      <td>流動比率</td>\n",
       "      <td>0.038694</td>\n",
       "    </tr>\n",
       "    <tr>\n",
       "      <th>62</th>\n",
       "      <td>當季季底 PSR</td>\n",
       "      <td>0.036054</td>\n",
       "    </tr>\n",
       "    <tr>\n",
       "      <th>37</th>\n",
       "      <td>營收變動率</td>\n",
       "      <td>0.033575</td>\n",
       "    </tr>\n",
       "    <tr>\n",
       "      <th>51</th>\n",
       "      <td>應收帳款收現天數</td>\n",
       "      <td>0.033431</td>\n",
       "    </tr>\n",
       "    <tr>\n",
       "      <th>9</th>\n",
       "      <td>稅後淨利率</td>\n",
       "      <td>0.032125</td>\n",
       "    </tr>\n",
       "    <tr>\n",
       "      <th>13</th>\n",
       "      <td>營業費用率</td>\n",
       "      <td>0.031082</td>\n",
       "    </tr>\n",
       "    <tr>\n",
       "      <th>14</th>\n",
       "      <td>現金流量比率</td>\n",
       "      <td>0.023177</td>\n",
       "    </tr>\n",
       "    <tr>\n",
       "      <th>58</th>\n",
       "      <td>每人營收</td>\n",
       "      <td>0.014341</td>\n",
       "    </tr>\n",
       "    <tr>\n",
       "      <th>53</th>\n",
       "      <td>平均售貨天數</td>\n",
       "      <td>0.013605</td>\n",
       "    </tr>\n",
       "    <tr>\n",
       "      <th>47</th>\n",
       "      <td>營業利益占實收資本比</td>\n",
       "      <td>0.011408</td>\n",
       "    </tr>\n",
       "    <tr>\n",
       "      <th>42</th>\n",
       "      <td>利息支出率</td>\n",
       "      <td>0.002694</td>\n",
       "    </tr>\n",
       "  </tbody>\n",
       "</table>\n",
       "</div>"
      ],
      "text/plain": [
       "              0         1\n",
       "59       每人營業利益  0.115730\n",
       "57    淨營業週期 (日)  0.109424\n",
       "39  稅後淨利變動率(單季)  0.091094\n",
       "61    當季季底股價淨值比  0.076388\n",
       "34       總資產成長率  0.068717\n",
       "2     資產報酬率(B)%  0.060817\n",
       "16      稅率 (A)%  0.059657\n",
       "55    淨值週轉率 (次)  0.059009\n",
       "29      營業利益成長率  0.049233\n",
       "21       每股現金流量  0.039745\n",
       "40         流動比率  0.038694\n",
       "62     當季季底 PSR  0.036054\n",
       "37        營收變動率  0.033575\n",
       "51     應收帳款收現天數  0.033431\n",
       "9         稅後淨利率  0.032125\n",
       "13        營業費用率  0.031082\n",
       "14       現金流量比率  0.023177\n",
       "58         每人營收  0.014341\n",
       "53       平均售貨天數  0.013605\n",
       "47   營業利益占實收資本比  0.011408\n",
       "42        利息支出率  0.002694"
      ]
     },
     "execution_count": 14,
     "metadata": {},
     "output_type": "execute_result"
    }
   ],
   "source": [
    "importance = pd.DataFrame(list(zip(data.drop(\"return\", axis = 1).columns, clf.feature_importances_)))\n",
    "importance.sort_values(by = 1, ascending = False, inplace = True)\n",
    "importance[importance[1] > 0]"
   ]
  },
  {
   "cell_type": "code",
   "execution_count": 15,
   "metadata": {},
   "outputs": [
    {
     "data": {
      "image/png": "[encoded data removed]",
      "text/plain": [
       "<matplotlib.figure.Figure at 0x297eddf1e80>"
      ]
     },
     "metadata": {},
     "output_type": "display_data"
    }
   ],
   "source": [
    "from matplotlib.font_manager import FontProperties\n",
    "font = FontProperties(fname=r\"c:\\windows\\Fonts\\SimSun.ttc\", size=15)\n",
    "\n",
    "objects = importance[0][importance[1] > 0].values\n",
    "y_pos = np.arange(len(objects))\n",
    "performance = importance[1][importance[1] > 0]\n",
    "\n",
    "plt.figure(figsize = (20, 10))\n",
    "plt.bar(y_pos, performance, align='center', alpha=0.5, color = \"grey\")\n",
    "plt.xticks(y_pos, objects, rotation = 90, fontproperties=font)\n",
    "plt.ylabel(u'重要程度', fontproperties=font, size = 25)\n",
    "plt.title('財務指標重要程度', fontproperties=font, size = 30)\n",
    "plt.tight_layout()\n",
    "plt.show()"
   ]
  },
  {
   "cell_type": "code",
   "execution_count": 16,
   "metadata": {},
   "outputs": [
    {
     "data": {
      "text/html": [
       "<div>\n",
       "<style>\n",
       "    .dataframe thead tr:only-child th {\n",
       "        text-align: right;\n",
       "    }\n",
       "\n",
       "    .dataframe thead th {\n",
       "        text-align: left;\n",
       "    }\n",
       "\n",
       "    .dataframe tbody tr th {\n",
       "        vertical-align: top;\n",
       "    }\n",
       "</style>\n",
       "<table border=\"1\" class=\"dataframe\">\n",
       "  <thead>\n",
       "    <tr style=\"text-align: right;\">\n",
       "      <th></th>\n",
       "      <th>0</th>\n",
       "      <th>1</th>\n",
       "      <th>2</th>\n",
       "      <th>3</th>\n",
       "    </tr>\n",
       "  </thead>\n",
       "  <tbody>\n",
       "    <tr>\n",
       "      <th>1</th>\n",
       "      <td>2379 瑞昱</td>\n",
       "      <td>2379</td>\n",
       "      <td>IC設計</td>\n",
       "      <td>2.0</td>\n",
       "    </tr>\n",
       "    <tr>\n",
       "      <th>3</th>\n",
       "      <td>2401 凌陽</td>\n",
       "      <td>2401</td>\n",
       "      <td>IC設計</td>\n",
       "      <td>2.0</td>\n",
       "    </tr>\n",
       "    <tr>\n",
       "      <th>4</th>\n",
       "      <td>2436 偉詮電</td>\n",
       "      <td>2436</td>\n",
       "      <td>IC設計</td>\n",
       "      <td>2.0</td>\n",
       "    </tr>\n",
       "    <tr>\n",
       "      <th>7</th>\n",
       "      <td>3006 晶豪科</td>\n",
       "      <td>3006</td>\n",
       "      <td>IC設計</td>\n",
       "      <td>2.0</td>\n",
       "    </tr>\n",
       "    <tr>\n",
       "      <th>9</th>\n",
       "      <td>3035 智原</td>\n",
       "      <td>3035</td>\n",
       "      <td>IC設計</td>\n",
       "      <td>2.0</td>\n",
       "    </tr>\n",
       "    <tr>\n",
       "      <th>11</th>\n",
       "      <td>3257 虹冠電</td>\n",
       "      <td>3257</td>\n",
       "      <td>IC設計</td>\n",
       "      <td>2.0</td>\n",
       "    </tr>\n",
       "    <tr>\n",
       "      <th>13</th>\n",
       "      <td>3545 敦泰</td>\n",
       "      <td>3545</td>\n",
       "      <td>IC設計</td>\n",
       "      <td>2.0</td>\n",
       "    </tr>\n",
       "    <tr>\n",
       "      <th>14</th>\n",
       "      <td>3588 通嘉</td>\n",
       "      <td>3588</td>\n",
       "      <td>IC設計</td>\n",
       "      <td>2.0</td>\n",
       "    </tr>\n",
       "    <tr>\n",
       "      <th>16</th>\n",
       "      <td>4919 新唐</td>\n",
       "      <td>4919</td>\n",
       "      <td>IC設計</td>\n",
       "      <td>2.0</td>\n",
       "    </tr>\n",
       "    <tr>\n",
       "      <th>17</th>\n",
       "      <td>4952 凌通</td>\n",
       "      <td>4952</td>\n",
       "      <td>IC設計</td>\n",
       "      <td>2.0</td>\n",
       "    </tr>\n",
       "    <tr>\n",
       "      <th>18</th>\n",
       "      <td>4968 立積</td>\n",
       "      <td>4968</td>\n",
       "      <td>IC設計</td>\n",
       "      <td>2.0</td>\n",
       "    </tr>\n",
       "    <tr>\n",
       "      <th>19</th>\n",
       "      <td>5471 松翰</td>\n",
       "      <td>5471</td>\n",
       "      <td>IC設計</td>\n",
       "      <td>2.0</td>\n",
       "    </tr>\n",
       "    <tr>\n",
       "      <th>20</th>\n",
       "      <td>6202 盛群</td>\n",
       "      <td>6202</td>\n",
       "      <td>IC設計</td>\n",
       "      <td>2.0</td>\n",
       "    </tr>\n",
       "    <tr>\n",
       "      <th>22</th>\n",
       "      <td>6415 矽力-KY</td>\n",
       "      <td>6415</td>\n",
       "      <td>IC設計</td>\n",
       "      <td>2.0</td>\n",
       "    </tr>\n",
       "    <tr>\n",
       "      <th>23</th>\n",
       "      <td>6531 愛普</td>\n",
       "      <td>6531</td>\n",
       "      <td>IC設計</td>\n",
       "      <td>2.0</td>\n",
       "    </tr>\n",
       "  </tbody>\n",
       "</table>\n",
       "</div>"
      ],
      "text/plain": [
       "             0     1     2    3\n",
       "1      2379 瑞昱  2379  IC設計  2.0\n",
       "3      2401 凌陽  2401  IC設計  2.0\n",
       "4     2436 偉詮電  2436  IC設計  2.0\n",
       "7     3006 晶豪科  3006  IC設計  2.0\n",
       "9      3035 智原  3035  IC設計  2.0\n",
       "11    3257 虹冠電  3257  IC設計  2.0\n",
       "13     3545 敦泰  3545  IC設計  2.0\n",
       "14     3588 通嘉  3588  IC設計  2.0\n",
       "16     4919 新唐  4919  IC設計  2.0\n",
       "17     4952 凌通  4952  IC設計  2.0\n",
       "18     4968 立積  4968  IC設計  2.0\n",
       "19     5471 松翰  5471  IC設計  2.0\n",
       "20     6202 盛群  6202  IC設計  2.0\n",
       "22  6415 矽力-KY  6415  IC設計  2.0\n",
       "23     6531 愛普  6531  IC設計  2.0"
      ]
     },
     "execution_count": 16,
     "metadata": {},
     "output_type": "execute_result"
    }
   ],
   "source": [
    "predict_data = pd.read_csv(\"predict_data-set.csv\")\n",
    "predict_data = predict_data[predict_data[\"TEJ子產業_名稱\"] == \"IC設計\"]\n",
    "\n",
    "company_list = np.array([predict_data[\"公司\"]]).reshape(len(predict_data[\"公司\"]), )\n",
    "company_code = np.array([predict_data[\"code\"]]).reshape(len(predict_data[\"code\"]), )\n",
    "company_type = np.array([predict_data[\"TEJ子產業_名稱\"]]).reshape(len(predict_data[\"code\"]), )\n",
    "\n",
    "predict_data.drop([\"公司\", \"TEJ子產業_名稱\",\"date\", \"code\"], axis = 1, inplace = True)\n",
    "\n",
    "#將data轉成array\n",
    "xx = np.zeros([len(predict_data), 1])\n",
    "for ix in predict_data.columns:\n",
    "    xx = np.append(xx, np.array(predict_data[\"{}\".format(ix)]).reshape(len(predict_data), 1), axis = 1)\n",
    "xx = xx[:, 1:]\n",
    "X = xx\n",
    "\n",
    "recommand_list_ic_desgin = pd.DataFrame(list(zip(company_list, company_code, company_type, clf.predict(X))))\n",
    "recommand_list_ic_desgin = recommand_list_ic_desgin[recommand_list_ic_desgin[3] == 2]\n",
    "recommand_list_ic_desgin"
   ]
  },
  {
   "cell_type": "markdown",
   "metadata": {},
   "source": [
    "## 建設"
   ]
  },
  {
   "cell_type": "code",
   "execution_count": 17,
   "metadata": {},
   "outputs": [
    {
     "data": {
      "text/plain": [
       "array([[<matplotlib.axes._subplots.AxesSubplot object at 0x00000297EDD562E8>]], dtype=object)"
      ]
     },
     "execution_count": 17,
     "metadata": {},
     "output_type": "execute_result"
    },
    {
     "data": {
      "image/png": "[encoded data removed]",
      "text/plain": [
       "<matplotlib.figure.Figure at 0x297edca9f60>"
      ]
     },
     "metadata": {},
     "output_type": "display_data"
    }
   ],
   "source": [
    "data = pd.read_csv(\"data_set.csv\")\n",
    "\n",
    "#將財報名稱中的Q剔除\n",
    "\n",
    "data_columns = np.array([data.columns]).reshape(len(data.columns), )\n",
    "\n",
    "for i in range(len(data_columns)):\n",
    "    if (data_columns[i][0] == \"Q\"):\n",
    "        data_columns[i] = data_columns[i][1:]\n",
    "    else:\n",
    "        data_columns[i] = data_columns[i]\n",
    "\n",
    "data.columns = data_columns\n",
    "\n",
    "#選擇產業類別\n",
    "\n",
    "data = data[data.TEJ子產業_名稱 == '建設']\n",
    "\n",
    "data.drop([\"公司\", \"TEJ子產業_名稱\",\"date\", \"code\"], axis = 1, inplace = True)\n",
    "\n",
    "Return = np.array(data[\"return\"])\n",
    "\n",
    "for i in range(0, len(Return)):\n",
    "    if Return[i] < 0.05:\n",
    "        Return[i] = 1\n",
    "    else:\n",
    "        Return[i] =2\n",
    "##看各群組數量      \n",
    "pd.DataFrame(Return).hist()"
   ]
  },
  {
   "cell_type": "code",
   "execution_count": 18,
   "metadata": {
    "collapsed": true
   },
   "outputs": [],
   "source": [
    "#將return label拿掉\n",
    "X = data.drop(\"return\", axis = 1)\n",
    "\n",
    "#將data轉成array\n",
    "xx = np.zeros([len(data), 1])\n",
    "for ix in X.columns:\n",
    "    xx = np.append(xx, np.array(X[\"{}\".format(ix)]).reshape(len(data), 1), axis = 1)\n",
    "xx = xx[:, 1:]\n",
    "X = xx\n",
    "\n",
    "Y = Return"
   ]
  },
  {
   "cell_type": "code",
   "execution_count": 19,
   "metadata": {},
   "outputs": [
    {
     "name": "stdout",
     "output_type": "stream",
     "text": [
      "Accuracy_train : 76.06% \n",
      "Accuracy_test  : 64.20%\n"
     ]
    }
   ],
   "source": [
    "from sklearn.model_selection import train_test_split\n",
    "x_train, x_test, y_train, y_test =  train_test_split(X, Y, test_size = 0.3, random_state = 666)\n",
    "\n",
    "from sklearn.ensemble import RandomForestClassifier\n",
    "clf = RandomForestClassifier(criterion = \"gini\", \n",
    "                             n_estimators = 3,  \n",
    "                             random_state = 78, \n",
    "                             max_features = 0.2, \n",
    "                             max_depth = 7,      \n",
    "                             min_samples_leaf = 5) \n",
    "\n",
    "clf.fit(x_train, y_train)\n",
    "z = clf.predict(x_train)\n",
    "\n",
    "y_predict_test = clf.predict(x_test)\n",
    "\n",
    "from sklearn.metrics import accuracy_score\n",
    "\n",
    "train_acc = accuracy_score(y_train, z)\n",
    "test_acc = accuracy_score(y_test, y_predict_test)\n",
    "\n",
    "print(\"Accuracy_train : %.2f%%\" % (train_acc * 100.0),\"\\n\"\n",
    "      \"Accuracy_test  : %.2f%%\" % (test_acc * 100.0))"
   ]
  },
  {
   "cell_type": "code",
   "execution_count": 20,
   "metadata": {},
   "outputs": [
    {
     "data": {
      "text/plain": [
       "array([[<matplotlib.axes._subplots.AxesSubplot object at 0x00000297EDD25320>]], dtype=object)"
      ]
     },
     "execution_count": 20,
     "metadata": {},
     "output_type": "execute_result"
    },
    {
     "data": {
      "image/png": "[encoded data removed]",
      "text/plain": [
       "<matplotlib.figure.Figure at 0x297edd391d0>"
      ]
     },
     "metadata": {},
     "output_type": "display_data"
    }
   ],
   "source": [
    "pd.DataFrame((y_predict_test - y_test)).hist()"
   ]
  },
  {
   "cell_type": "code",
   "execution_count": 21,
   "metadata": {},
   "outputs": [
    {
     "data": {
      "text/plain": [
       "array([[27, 17],\n",
       "       [12, 25]], dtype=int64)"
      ]
     },
     "execution_count": 21,
     "metadata": {},
     "output_type": "execute_result"
    }
   ],
   "source": [
    "from sklearn.metrics import confusion_matrix\n",
    "\n",
    "confusion_matrix(y_test, y_predict_test)"
   ]
  },
  {
   "cell_type": "code",
   "execution_count": 22,
   "metadata": {},
   "outputs": [
    {
     "name": "stdout",
     "output_type": "stream",
     "text": [
      "Normalized confusion matrix\n",
      "[[ 0.61363636  0.38636364]\n",
      " [ 0.32432432  0.67567568]]\n"
     ]
    },
    {
     "data": {
      "image/png": "[encoded data removed]",
      "text/plain": [
       "<matplotlib.figure.Figure at 0x297ede2fa58>"
      ]
     },
     "metadata": {},
     "output_type": "display_data"
    }
   ],
   "source": [
    "plot_confusion_matrix(confusion_matrix(y_test, y_predict_test), classes = [\"1\", \"2\"], normalize = True)"
   ]
  },
  {
   "cell_type": "code",
   "execution_count": 23,
   "metadata": {},
   "outputs": [
    {
     "data": {
      "text/html": [
       "<div>\n",
       "<style>\n",
       "    .dataframe thead tr:only-child th {\n",
       "        text-align: right;\n",
       "    }\n",
       "\n",
       "    .dataframe thead th {\n",
       "        text-align: left;\n",
       "    }\n",
       "\n",
       "    .dataframe tbody tr th {\n",
       "        vertical-align: top;\n",
       "    }\n",
       "</style>\n",
       "<table border=\"1\" class=\"dataframe\">\n",
       "  <thead>\n",
       "    <tr style=\"text-align: right;\">\n",
       "      <th></th>\n",
       "      <th>0</th>\n",
       "      <th>1</th>\n",
       "    </tr>\n",
       "  </thead>\n",
       "  <tbody>\n",
       "    <tr>\n",
       "      <th>7</th>\n",
       "      <td>營業利益率</td>\n",
       "      <td>0.162601</td>\n",
       "    </tr>\n",
       "    <tr>\n",
       "      <th>50</th>\n",
       "      <td>應收帳款週轉率(次)</td>\n",
       "      <td>0.105402</td>\n",
       "    </tr>\n",
       "    <tr>\n",
       "      <th>30</th>\n",
       "      <td>稅前淨利成長率</td>\n",
       "      <td>0.074916</td>\n",
       "    </tr>\n",
       "    <tr>\n",
       "      <th>31</th>\n",
       "      <td>稅後淨利成長率</td>\n",
       "      <td>0.059987</td>\n",
       "    </tr>\n",
       "    <tr>\n",
       "      <th>38</th>\n",
       "      <td>營業利益變動率</td>\n",
       "      <td>0.059068</td>\n",
       "    </tr>\n",
       "    <tr>\n",
       "      <th>33</th>\n",
       "      <td>常續性利益成長率(稅後)</td>\n",
       "      <td>0.055671</td>\n",
       "    </tr>\n",
       "    <tr>\n",
       "      <th>19</th>\n",
       "      <td>每股淨值 (C)</td>\n",
       "      <td>0.045256</td>\n",
       "    </tr>\n",
       "    <tr>\n",
       "      <th>60</th>\n",
       "      <td>每人配備率</td>\n",
       "      <td>0.044023</td>\n",
       "    </tr>\n",
       "    <tr>\n",
       "      <th>46</th>\n",
       "      <td>借款依存度</td>\n",
       "      <td>0.042392</td>\n",
       "    </tr>\n",
       "    <tr>\n",
       "      <th>17</th>\n",
       "      <td>每股淨值 (B)</td>\n",
       "      <td>0.039099</td>\n",
       "    </tr>\n",
       "    <tr>\n",
       "      <th>55</th>\n",
       "      <td>淨值週轉率 (次)</td>\n",
       "      <td>0.031517</td>\n",
       "    </tr>\n",
       "    <tr>\n",
       "      <th>45</th>\n",
       "      <td>淨值 /總資產</td>\n",
       "      <td>0.027826</td>\n",
       "    </tr>\n",
       "    <tr>\n",
       "      <th>34</th>\n",
       "      <td>總資產成長率</td>\n",
       "      <td>0.026362</td>\n",
       "    </tr>\n",
       "    <tr>\n",
       "      <th>29</th>\n",
       "      <td>營業利益成長率</td>\n",
       "      <td>0.024612</td>\n",
       "    </tr>\n",
       "    <tr>\n",
       "      <th>54</th>\n",
       "      <td>固定資產週轉率 (次)</td>\n",
       "      <td>0.023116</td>\n",
       "    </tr>\n",
       "    <tr>\n",
       "      <th>15</th>\n",
       "      <td>有息負債利率</td>\n",
       "      <td>0.020697</td>\n",
       "    </tr>\n",
       "    <tr>\n",
       "      <th>14</th>\n",
       "      <td>現金流量比率</td>\n",
       "      <td>0.020575</td>\n",
       "    </tr>\n",
       "    <tr>\n",
       "      <th>39</th>\n",
       "      <td>稅後淨利變動率(單季)</td>\n",
       "      <td>0.019932</td>\n",
       "    </tr>\n",
       "    <tr>\n",
       "      <th>24</th>\n",
       "      <td>每股稅前淨利(元)</td>\n",
       "      <td>0.017653</td>\n",
       "    </tr>\n",
       "    <tr>\n",
       "      <th>37</th>\n",
       "      <td>營收變動率</td>\n",
       "      <td>0.016488</td>\n",
       "    </tr>\n",
       "    <tr>\n",
       "      <th>63</th>\n",
       "      <td>季底普通股市值</td>\n",
       "      <td>0.016387</td>\n",
       "    </tr>\n",
       "    <tr>\n",
       "      <th>43</th>\n",
       "      <td>總負債/總淨值比</td>\n",
       "      <td>0.016153</td>\n",
       "    </tr>\n",
       "    <tr>\n",
       "      <th>5</th>\n",
       "      <td>營業毛利率</td>\n",
       "      <td>0.015800</td>\n",
       "    </tr>\n",
       "    <tr>\n",
       "      <th>42</th>\n",
       "      <td>利息支出率</td>\n",
       "      <td>0.012323</td>\n",
       "    </tr>\n",
       "    <tr>\n",
       "      <th>56</th>\n",
       "      <td>應付帳款付現天數</td>\n",
       "      <td>0.010901</td>\n",
       "    </tr>\n",
       "    <tr>\n",
       "      <th>40</th>\n",
       "      <td>流動比率</td>\n",
       "      <td>0.006847</td>\n",
       "    </tr>\n",
       "    <tr>\n",
       "      <th>10</th>\n",
       "      <td>業外收支率</td>\n",
       "      <td>0.004395</td>\n",
       "    </tr>\n",
       "  </tbody>\n",
       "</table>\n",
       "</div>"
      ],
      "text/plain": [
       "               0         1\n",
       "7          營業利益率  0.162601\n",
       "50    應收帳款週轉率(次)  0.105402\n",
       "30       稅前淨利成長率  0.074916\n",
       "31       稅後淨利成長率  0.059987\n",
       "38       營業利益變動率  0.059068\n",
       "33  常續性利益成長率(稅後)  0.055671\n",
       "19      每股淨值 (C)  0.045256\n",
       "60         每人配備率  0.044023\n",
       "46         借款依存度  0.042392\n",
       "17      每股淨值 (B)  0.039099\n",
       "55     淨值週轉率 (次)  0.031517\n",
       "45       淨值 /總資產  0.027826\n",
       "34        總資產成長率  0.026362\n",
       "29       營業利益成長率  0.024612\n",
       "54   固定資產週轉率 (次)  0.023116\n",
       "15        有息負債利率  0.020697\n",
       "14        現金流量比率  0.020575\n",
       "39   稅後淨利變動率(單季)  0.019932\n",
       "24     每股稅前淨利(元)  0.017653\n",
       "37         營收變動率  0.016488\n",
       "63       季底普通股市值  0.016387\n",
       "43      總負債/總淨值比  0.016153\n",
       "5          營業毛利率  0.015800\n",
       "42         利息支出率  0.012323\n",
       "56      應付帳款付現天數  0.010901\n",
       "40          流動比率  0.006847\n",
       "10         業外收支率  0.004395"
      ]
     },
     "execution_count": 23,
     "metadata": {},
     "output_type": "execute_result"
    }
   ],
   "source": [
    "importance = pd.DataFrame(list(zip(data.drop(\"return\", axis = 1).columns, clf.feature_importances_)))\n",
    "importance.sort_values(by = 1, ascending = False, inplace = True)\n",
    "importance[importance[1] > 0]"
   ]
  },
  {
   "cell_type": "code",
   "execution_count": 24,
   "metadata": {},
   "outputs": [
    {
     "data": {
      "image/png": "[encoded data removed]",
      "text/plain": [
       "<matplotlib.figure.Figure at 0x297eddf1d30>"
      ]
     },
     "metadata": {},
     "output_type": "display_data"
    }
   ],
   "source": [
    "from matplotlib.font_manager import FontProperties\n",
    "font = FontProperties(fname=r\"c:\\windows\\Fonts\\SimSun.ttc\", size=15)\n",
    "\n",
    "objects = importance[0][importance[1] > 0].values\n",
    "y_pos = np.arange(len(objects))\n",
    "performance = importance[1][importance[1] > 0]\n",
    "\n",
    "plt.figure(figsize = (20, 10))\n",
    "plt.bar(y_pos, performance, align='center', alpha=0.5, color = \"grey\")\n",
    "plt.xticks(y_pos, objects, rotation = 90, fontproperties=font)\n",
    "plt.ylabel(u'重要程度', fontproperties=font, size = 25)\n",
    "plt.title('財務指標重要程度', fontproperties=font, size = 30)\n",
    "plt.tight_layout()\n",
    "plt.show()"
   ]
  },
  {
   "cell_type": "code",
   "execution_count": 25,
   "metadata": {},
   "outputs": [
    {
     "data": {
      "text/html": [
       "<div>\n",
       "<style>\n",
       "    .dataframe thead tr:only-child th {\n",
       "        text-align: right;\n",
       "    }\n",
       "\n",
       "    .dataframe thead th {\n",
       "        text-align: left;\n",
       "    }\n",
       "\n",
       "    .dataframe tbody tr th {\n",
       "        vertical-align: top;\n",
       "    }\n",
       "</style>\n",
       "<table border=\"1\" class=\"dataframe\">\n",
       "  <thead>\n",
       "    <tr style=\"text-align: right;\">\n",
       "      <th></th>\n",
       "      <th>0</th>\n",
       "      <th>1</th>\n",
       "      <th>2</th>\n",
       "      <th>3</th>\n",
       "    </tr>\n",
       "  </thead>\n",
       "  <tbody>\n",
       "    <tr>\n",
       "      <th>0</th>\n",
       "      <td>1436 華友聯</td>\n",
       "      <td>1436</td>\n",
       "      <td>建設</td>\n",
       "      <td>2.0</td>\n",
       "    </tr>\n",
       "    <tr>\n",
       "      <th>1</th>\n",
       "      <td>1442 名軒</td>\n",
       "      <td>1442</td>\n",
       "      <td>建設</td>\n",
       "      <td>2.0</td>\n",
       "    </tr>\n",
       "    <tr>\n",
       "      <th>3</th>\n",
       "      <td>1808 潤隆</td>\n",
       "      <td>1808</td>\n",
       "      <td>建設</td>\n",
       "      <td>2.0</td>\n",
       "    </tr>\n",
       "    <tr>\n",
       "      <th>4</th>\n",
       "      <td>2442 新美齊</td>\n",
       "      <td>2442</td>\n",
       "      <td>建設</td>\n",
       "      <td>2.0</td>\n",
       "    </tr>\n",
       "    <tr>\n",
       "      <th>5</th>\n",
       "      <td>2501 國建</td>\n",
       "      <td>2501</td>\n",
       "      <td>建設</td>\n",
       "      <td>2.0</td>\n",
       "    </tr>\n",
       "    <tr>\n",
       "      <th>6</th>\n",
       "      <td>2505 國揚</td>\n",
       "      <td>2505</td>\n",
       "      <td>建設</td>\n",
       "      <td>2.0</td>\n",
       "    </tr>\n",
       "    <tr>\n",
       "      <th>7</th>\n",
       "      <td>2511 太子</td>\n",
       "      <td>2511</td>\n",
       "      <td>建設</td>\n",
       "      <td>2.0</td>\n",
       "    </tr>\n",
       "    <tr>\n",
       "      <th>8</th>\n",
       "      <td>2520 冠德</td>\n",
       "      <td>2520</td>\n",
       "      <td>建設</td>\n",
       "      <td>2.0</td>\n",
       "    </tr>\n",
       "    <tr>\n",
       "      <th>13</th>\n",
       "      <td>2534 宏盛</td>\n",
       "      <td>2534</td>\n",
       "      <td>建設</td>\n",
       "      <td>2.0</td>\n",
       "    </tr>\n",
       "    <tr>\n",
       "      <th>17</th>\n",
       "      <td>2539 櫻花建</td>\n",
       "      <td>2539</td>\n",
       "      <td>建設</td>\n",
       "      <td>2.0</td>\n",
       "    </tr>\n",
       "    <tr>\n",
       "      <th>19</th>\n",
       "      <td>2542 興富發</td>\n",
       "      <td>2542</td>\n",
       "      <td>建設</td>\n",
       "      <td>2.0</td>\n",
       "    </tr>\n",
       "    <tr>\n",
       "      <th>20</th>\n",
       "      <td>2547 日勝生</td>\n",
       "      <td>2547</td>\n",
       "      <td>建設</td>\n",
       "      <td>2.0</td>\n",
       "    </tr>\n",
       "    <tr>\n",
       "      <th>22</th>\n",
       "      <td>3052 夆典</td>\n",
       "      <td>3052</td>\n",
       "      <td>建設</td>\n",
       "      <td>2.0</td>\n",
       "    </tr>\n",
       "    <tr>\n",
       "      <th>23</th>\n",
       "      <td>3056 總太</td>\n",
       "      <td>3056</td>\n",
       "      <td>建設</td>\n",
       "      <td>2.0</td>\n",
       "    </tr>\n",
       "    <tr>\n",
       "      <th>27</th>\n",
       "      <td>5534 長虹</td>\n",
       "      <td>5534</td>\n",
       "      <td>建設</td>\n",
       "      <td>2.0</td>\n",
       "    </tr>\n",
       "    <tr>\n",
       "      <th>28</th>\n",
       "      <td>6177 達麗</td>\n",
       "      <td>6177</td>\n",
       "      <td>建設</td>\n",
       "      <td>2.0</td>\n",
       "    </tr>\n",
       "  </tbody>\n",
       "</table>\n",
       "</div>"
      ],
      "text/plain": [
       "           0     1   2    3\n",
       "0   1436 華友聯  1436  建設  2.0\n",
       "1    1442 名軒  1442  建設  2.0\n",
       "3    1808 潤隆  1808  建設  2.0\n",
       "4   2442 新美齊  2442  建設  2.0\n",
       "5    2501 國建  2501  建設  2.0\n",
       "6    2505 國揚  2505  建設  2.0\n",
       "7    2511 太子  2511  建設  2.0\n",
       "8    2520 冠德  2520  建設  2.0\n",
       "13   2534 宏盛  2534  建設  2.0\n",
       "17  2539 櫻花建  2539  建設  2.0\n",
       "19  2542 興富發  2542  建設  2.0\n",
       "20  2547 日勝生  2547  建設  2.0\n",
       "22   3052 夆典  3052  建設  2.0\n",
       "23   3056 總太  3056  建設  2.0\n",
       "27   5534 長虹  5534  建設  2.0\n",
       "28   6177 達麗  6177  建設  2.0"
      ]
     },
     "execution_count": 25,
     "metadata": {},
     "output_type": "execute_result"
    }
   ],
   "source": [
    "predict_data = pd.read_csv(\"predict_data-set.csv\")\n",
    "predict_data = predict_data[predict_data[\"TEJ子產業_名稱\"] == \"建設\"]\n",
    "\n",
    "company_list = np.array([predict_data[\"公司\"]]).reshape(len(predict_data[\"公司\"]), )\n",
    "company_code = np.array([predict_data[\"code\"]]).reshape(len(predict_data[\"code\"]), )\n",
    "company_type = np.array([predict_data[\"TEJ子產業_名稱\"]]).reshape(len(predict_data[\"code\"]), )\n",
    "\n",
    "predict_data.drop([\"公司\", \"TEJ子產業_名稱\",\"date\", \"code\"], axis = 1, inplace = True)\n",
    "\n",
    "#將data轉成array\n",
    "xx = np.zeros([len(predict_data), 1])\n",
    "for ix in predict_data.columns:\n",
    "    xx = np.append(xx, np.array(predict_data[\"{}\".format(ix)]).reshape(len(predict_data), 1), axis = 1)\n",
    "xx = xx[:, 1:]\n",
    "X = xx\n",
    "\n",
    "recommand_list_construct = pd.DataFrame(list(zip(company_list, company_code, company_type, clf.predict(X))))\n",
    "recommand_list_construct = recommand_list_construct[recommand_list_construct[3] == 2]\n",
    "recommand_list_construct"
   ]
  },
  {
   "cell_type": "markdown",
   "metadata": {},
   "source": [
    "## 汽車組件"
   ]
  },
  {
   "cell_type": "code",
   "execution_count": 26,
   "metadata": {},
   "outputs": [
    {
     "data": {
      "text/plain": [
       "array([[<matplotlib.axes._subplots.AxesSubplot object at 0x00000297EE0B9C88>]], dtype=object)"
      ]
     },
     "execution_count": 26,
     "metadata": {},
     "output_type": "execute_result"
    },
    {
     "data": {
      "image/png": "[encoded data removed]",
      "text/plain": [
       "<matplotlib.figure.Figure at 0x297ee0abfd0>"
      ]
     },
     "metadata": {},
     "output_type": "display_data"
    }
   ],
   "source": [
    "data = pd.read_csv(\"data_set.csv\")\n",
    "\n",
    "#將財報名稱中的Q剔除\n",
    "\n",
    "data_columns = np.array([data.columns]).reshape(len(data.columns), )\n",
    "\n",
    "for i in range(len(data_columns)):\n",
    "    if (data_columns[i][0] == \"Q\"):\n",
    "        data_columns[i] = data_columns[i][1:]\n",
    "    else:\n",
    "        data_columns[i] = data_columns[i]\n",
    "\n",
    "data.columns = data_columns\n",
    "\n",
    "#選擇產業類別\n",
    "\n",
    "data = data[data.TEJ子產業_名稱 == '汽車組件']\n",
    "\n",
    "data.drop([\"公司\", \"TEJ子產業_名稱\",\"date\", \"code\"], axis = 1, inplace = True)\n",
    "\n",
    "Return = np.array(data[\"return\"])\n",
    "\n",
    "for i in range(0, len(Return)):\n",
    "    if Return[i] < 0.11:\n",
    "        Return[i] = 1\n",
    "    else:\n",
    "        Return[i] =2\n",
    "##看各群組數量      \n",
    "pd.DataFrame(Return).hist()"
   ]
  },
  {
   "cell_type": "code",
   "execution_count": 27,
   "metadata": {
    "collapsed": true
   },
   "outputs": [],
   "source": [
    "#將return label拿掉\n",
    "X = data.drop(\"return\", axis = 1)\n",
    "\n",
    "#將data轉成array\n",
    "xx = np.zeros([len(data), 1])\n",
    "for ix in X.columns:\n",
    "    xx = np.append(xx, np.array(X[\"{}\".format(ix)]).reshape(len(data), 1), axis = 1)\n",
    "xx = xx[:, 1:]\n",
    "X = xx\n",
    "\n",
    "Y = Return"
   ]
  },
  {
   "cell_type": "code",
   "execution_count": 28,
   "metadata": {},
   "outputs": [
    {
     "name": "stdout",
     "output_type": "stream",
     "text": [
      "Accuracy_train : 80.68% \n",
      "Accuracy_test  : 76.32%\n"
     ]
    }
   ],
   "source": [
    "from sklearn.model_selection import train_test_split\n",
    "x_train, x_test, y_train, y_test =  train_test_split(X, Y, test_size = 0.3, random_state = 666)\n",
    "\n",
    "from sklearn.ensemble import RandomForestClassifier\n",
    "clf = RandomForestClassifier(criterion = \"gini\", \n",
    "                             n_estimators = 3,  \n",
    "                             random_state = 963, \n",
    "                             max_features = 0.2, \n",
    "                             max_depth = 7,      \n",
    "                             min_samples_leaf = 5) \n",
    "\n",
    "clf.fit(x_train, y_train)\n",
    "z = clf.predict(x_train)\n",
    "\n",
    "y_predict_test = clf.predict(x_test)\n",
    "\n",
    "from sklearn.metrics import accuracy_score\n",
    "\n",
    "train_acc = accuracy_score(y_train, z)\n",
    "test_acc = accuracy_score(y_test, y_predict_test)\n",
    "\n",
    "print(\"Accuracy_train : %.2f%%\" % (train_acc * 100.0),\"\\n\"\n",
    "      \"Accuracy_test  : %.2f%%\" % (test_acc * 100.0))"
   ]
  },
  {
   "cell_type": "code",
   "execution_count": 29,
   "metadata": {},
   "outputs": [
    {
     "data": {
      "text/plain": [
       "array([[<matplotlib.axes._subplots.AxesSubplot object at 0x00000297EE0ABF60>]], dtype=object)"
      ]
     },
     "execution_count": 29,
     "metadata": {},
     "output_type": "execute_result"
    },
    {
     "data": {
      "image/png": "[encoded data removed]",
      "text/plain": [
       "<matplotlib.figure.Figure at 0x297ee0dea58>"
      ]
     },
     "metadata": {},
     "output_type": "display_data"
    }
   ],
   "source": [
    "pd.DataFrame((y_predict_test - y_test)).hist()"
   ]
  },
  {
   "cell_type": "code",
   "execution_count": 30,
   "metadata": {},
   "outputs": [
    {
     "data": {
      "text/plain": [
       "array([[18,  4],\n",
       "       [ 5, 11]], dtype=int64)"
      ]
     },
     "execution_count": 30,
     "metadata": {},
     "output_type": "execute_result"
    }
   ],
   "source": [
    "from sklearn.metrics import confusion_matrix\n",
    "\n",
    "confusion_matrix(y_test, y_predict_test)"
   ]
  },
  {
   "cell_type": "code",
   "execution_count": 31,
   "metadata": {},
   "outputs": [
    {
     "name": "stdout",
     "output_type": "stream",
     "text": [
      "Normalized confusion matrix\n",
      "[[ 0.81818182  0.18181818]\n",
      " [ 0.3125      0.6875    ]]\n"
     ]
    },
    {
     "data": {
      "image/png": "[encoded data removed]",
      "text/plain": [
       "<matplotlib.figure.Figure at 0x297ee087908>"
      ]
     },
     "metadata": {},
     "output_type": "display_data"
    }
   ],
   "source": [
    "plot_confusion_matrix(confusion_matrix(y_test, y_predict_test), classes = [\"1\", \"2\"], normalize = True)"
   ]
  },
  {
   "cell_type": "code",
   "execution_count": 32,
   "metadata": {},
   "outputs": [
    {
     "data": {
      "text/html": [
       "<div>\n",
       "<style>\n",
       "    .dataframe thead tr:only-child th {\n",
       "        text-align: right;\n",
       "    }\n",
       "\n",
       "    .dataframe thead th {\n",
       "        text-align: left;\n",
       "    }\n",
       "\n",
       "    .dataframe tbody tr th {\n",
       "        vertical-align: top;\n",
       "    }\n",
       "</style>\n",
       "<table border=\"1\" class=\"dataframe\">\n",
       "  <thead>\n",
       "    <tr style=\"text-align: right;\">\n",
       "      <th></th>\n",
       "      <th>0</th>\n",
       "      <th>1</th>\n",
       "    </tr>\n",
       "  </thead>\n",
       "  <tbody>\n",
       "    <tr>\n",
       "      <th>52</th>\n",
       "      <td>存貨週轉率 (次)</td>\n",
       "      <td>0.091685</td>\n",
       "    </tr>\n",
       "    <tr>\n",
       "      <th>48</th>\n",
       "      <td>稅前純益 /實收資本</td>\n",
       "      <td>0.088936</td>\n",
       "    </tr>\n",
       "    <tr>\n",
       "      <th>7</th>\n",
       "      <td>營業利益率</td>\n",
       "      <td>0.086101</td>\n",
       "    </tr>\n",
       "    <tr>\n",
       "      <th>58</th>\n",
       "      <td>每人營收</td>\n",
       "      <td>0.071628</td>\n",
       "    </tr>\n",
       "    <tr>\n",
       "      <th>25</th>\n",
       "      <td>每股淨值(F)</td>\n",
       "      <td>0.071499</td>\n",
       "    </tr>\n",
       "    <tr>\n",
       "      <th>19</th>\n",
       "      <td>每股淨值 (C)</td>\n",
       "      <td>0.070459</td>\n",
       "    </tr>\n",
       "    <tr>\n",
       "      <th>37</th>\n",
       "      <td>營收變動率</td>\n",
       "      <td>0.064857</td>\n",
       "    </tr>\n",
       "    <tr>\n",
       "      <th>40</th>\n",
       "      <td>流動比率</td>\n",
       "      <td>0.060257</td>\n",
       "    </tr>\n",
       "    <tr>\n",
       "      <th>31</th>\n",
       "      <td>稅後淨利成長率</td>\n",
       "      <td>0.059219</td>\n",
       "    </tr>\n",
       "    <tr>\n",
       "      <th>50</th>\n",
       "      <td>應收帳款週轉率(次)</td>\n",
       "      <td>0.058228</td>\n",
       "    </tr>\n",
       "    <tr>\n",
       "      <th>61</th>\n",
       "      <td>當季季底股價淨值比</td>\n",
       "      <td>0.050018</td>\n",
       "    </tr>\n",
       "    <tr>\n",
       "      <th>28</th>\n",
       "      <td>已實現銷貨毛利成長率</td>\n",
       "      <td>0.043927</td>\n",
       "    </tr>\n",
       "    <tr>\n",
       "      <th>36</th>\n",
       "      <td>總資產報酬成長率</td>\n",
       "      <td>0.038779</td>\n",
       "    </tr>\n",
       "    <tr>\n",
       "      <th>46</th>\n",
       "      <td>借款依存度</td>\n",
       "      <td>0.031389</td>\n",
       "    </tr>\n",
       "    <tr>\n",
       "      <th>56</th>\n",
       "      <td>應付帳款付現天數</td>\n",
       "      <td>0.028310</td>\n",
       "    </tr>\n",
       "    <tr>\n",
       "      <th>22</th>\n",
       "      <td>每股營業額(元)</td>\n",
       "      <td>0.026359</td>\n",
       "    </tr>\n",
       "    <tr>\n",
       "      <th>18</th>\n",
       "      <td>每股淨值 (A)</td>\n",
       "      <td>0.023699</td>\n",
       "    </tr>\n",
       "    <tr>\n",
       "      <th>10</th>\n",
       "      <td>業外收支率</td>\n",
       "      <td>0.013833</td>\n",
       "    </tr>\n",
       "    <tr>\n",
       "      <th>30</th>\n",
       "      <td>稅前淨利成長率</td>\n",
       "      <td>0.009336</td>\n",
       "    </tr>\n",
       "    <tr>\n",
       "      <th>27</th>\n",
       "      <td>毛利成長率</td>\n",
       "      <td>0.008874</td>\n",
       "    </tr>\n",
       "    <tr>\n",
       "      <th>45</th>\n",
       "      <td>淨值 /總資產</td>\n",
       "      <td>0.002606</td>\n",
       "    </tr>\n",
       "  </tbody>\n",
       "</table>\n",
       "</div>"
      ],
      "text/plain": [
       "             0         1\n",
       "52   存貨週轉率 (次)  0.091685\n",
       "48  稅前純益 /實收資本  0.088936\n",
       "7        營業利益率  0.086101\n",
       "58        每人營收  0.071628\n",
       "25     每股淨值(F)  0.071499\n",
       "19    每股淨值 (C)  0.070459\n",
       "37       營收變動率  0.064857\n",
       "40        流動比率  0.060257\n",
       "31     稅後淨利成長率  0.059219\n",
       "50  應收帳款週轉率(次)  0.058228\n",
       "61   當季季底股價淨值比  0.050018\n",
       "28  已實現銷貨毛利成長率  0.043927\n",
       "36    總資產報酬成長率  0.038779\n",
       "46       借款依存度  0.031389\n",
       "56    應付帳款付現天數  0.028310\n",
       "22    每股營業額(元)  0.026359\n",
       "18    每股淨值 (A)  0.023699\n",
       "10       業外收支率  0.013833\n",
       "30     稅前淨利成長率  0.009336\n",
       "27       毛利成長率  0.008874\n",
       "45     淨值 /總資產  0.002606"
      ]
     },
     "execution_count": 32,
     "metadata": {},
     "output_type": "execute_result"
    }
   ],
   "source": [
    "importance = pd.DataFrame(list(zip(data.drop(\"return\", axis = 1).columns, clf.feature_importances_)))\n",
    "importance.sort_values(by = 1, ascending = False, inplace = True)\n",
    "importance[importance[1] > 0]"
   ]
  },
  {
   "cell_type": "code",
   "execution_count": 33,
   "metadata": {},
   "outputs": [
    {
     "data": {
      "image/png": "[encoded data removed]",
      "text/plain": [
       "<matplotlib.figure.Figure at 0x297edf78b70>"
      ]
     },
     "metadata": {},
     "output_type": "display_data"
    }
   ],
   "source": [
    "from matplotlib.font_manager import FontProperties\n",
    "font = FontProperties(fname=r\"c:\\windows\\Fonts\\SimSun.ttc\", size=15)\n",
    "\n",
    "objects = importance[0][importance[1] > 0].values\n",
    "y_pos = np.arange(len(objects))\n",
    "performance = importance[1][importance[1] > 0]\n",
    "\n",
    "plt.figure(figsize = (20, 10))\n",
    "plt.bar(y_pos, performance, align='center', alpha=0.5, color = \"grey\")\n",
    "plt.xticks(y_pos, objects, rotation = 90, fontproperties=font)\n",
    "plt.ylabel(u'重要程度', fontproperties=font, size = 25)\n",
    "plt.title('財務指標重要程度', fontproperties=font, size = 30)\n",
    "plt.tight_layout()\n",
    "plt.show()"
   ]
  },
  {
   "cell_type": "code",
   "execution_count": 34,
   "metadata": {},
   "outputs": [
    {
     "data": {
      "text/html": [
       "<div>\n",
       "<style>\n",
       "    .dataframe thead tr:only-child th {\n",
       "        text-align: right;\n",
       "    }\n",
       "\n",
       "    .dataframe thead th {\n",
       "        text-align: left;\n",
       "    }\n",
       "\n",
       "    .dataframe tbody tr th {\n",
       "        vertical-align: top;\n",
       "    }\n",
       "</style>\n",
       "<table border=\"1\" class=\"dataframe\">\n",
       "  <thead>\n",
       "    <tr style=\"text-align: right;\">\n",
       "      <th></th>\n",
       "      <th>0</th>\n",
       "      <th>1</th>\n",
       "      <th>2</th>\n",
       "      <th>3</th>\n",
       "    </tr>\n",
       "  </thead>\n",
       "  <tbody>\n",
       "    <tr>\n",
       "      <th>0</th>\n",
       "      <td>1319 東陽</td>\n",
       "      <td>1319</td>\n",
       "      <td>汽車組件</td>\n",
       "      <td>2.0</td>\n",
       "    </tr>\n",
       "    <tr>\n",
       "      <th>2</th>\n",
       "      <td>1339 昭輝</td>\n",
       "      <td>1339</td>\n",
       "      <td>汽車組件</td>\n",
       "      <td>2.0</td>\n",
       "    </tr>\n",
       "    <tr>\n",
       "      <th>3</th>\n",
       "      <td>1506 正道</td>\n",
       "      <td>1506</td>\n",
       "      <td>汽車組件</td>\n",
       "      <td>2.0</td>\n",
       "    </tr>\n",
       "    <tr>\n",
       "      <th>4</th>\n",
       "      <td>1512 瑞利</td>\n",
       "      <td>1512</td>\n",
       "      <td>汽車組件</td>\n",
       "      <td>2.0</td>\n",
       "    </tr>\n",
       "    <tr>\n",
       "      <th>6</th>\n",
       "      <td>1524 耿鼎</td>\n",
       "      <td>1524</td>\n",
       "      <td>汽車組件</td>\n",
       "      <td>2.0</td>\n",
       "    </tr>\n",
       "    <tr>\n",
       "      <th>7</th>\n",
       "      <td>1525 江申</td>\n",
       "      <td>1525</td>\n",
       "      <td>汽車組件</td>\n",
       "      <td>2.0</td>\n",
       "    </tr>\n",
       "    <tr>\n",
       "      <th>8</th>\n",
       "      <td>1533 車王電</td>\n",
       "      <td>1533</td>\n",
       "      <td>汽車組件</td>\n",
       "      <td>2.0</td>\n",
       "    </tr>\n",
       "    <tr>\n",
       "      <th>10</th>\n",
       "      <td>1568 倉佑</td>\n",
       "      <td>1568</td>\n",
       "      <td>汽車組件</td>\n",
       "      <td>2.0</td>\n",
       "    </tr>\n",
       "    <tr>\n",
       "      <th>12</th>\n",
       "      <td>2115 六暉-KY</td>\n",
       "      <td>2115</td>\n",
       "      <td>汽車組件</td>\n",
       "      <td>2.0</td>\n",
       "    </tr>\n",
       "    <tr>\n",
       "      <th>13</th>\n",
       "      <td>2228 劍麟</td>\n",
       "      <td>2228</td>\n",
       "      <td>汽車組件</td>\n",
       "      <td>2.0</td>\n",
       "    </tr>\n",
       "    <tr>\n",
       "      <th>18</th>\n",
       "      <td>2497 怡利電</td>\n",
       "      <td>2497</td>\n",
       "      <td>汽車組件</td>\n",
       "      <td>2.0</td>\n",
       "    </tr>\n",
       "    <tr>\n",
       "      <th>21</th>\n",
       "      <td>4557 永新-KY</td>\n",
       "      <td>4557</td>\n",
       "      <td>汽車組件</td>\n",
       "      <td>2.0</td>\n",
       "    </tr>\n",
       "    <tr>\n",
       "      <th>22</th>\n",
       "      <td>5288 豐祥-KY</td>\n",
       "      <td>5288</td>\n",
       "      <td>汽車組件</td>\n",
       "      <td>2.0</td>\n",
       "    </tr>\n",
       "  </tbody>\n",
       "</table>\n",
       "</div>"
      ],
      "text/plain": [
       "             0     1     2    3\n",
       "0      1319 東陽  1319  汽車組件  2.0\n",
       "2      1339 昭輝  1339  汽車組件  2.0\n",
       "3      1506 正道  1506  汽車組件  2.0\n",
       "4      1512 瑞利  1512  汽車組件  2.0\n",
       "6      1524 耿鼎  1524  汽車組件  2.0\n",
       "7      1525 江申  1525  汽車組件  2.0\n",
       "8     1533 車王電  1533  汽車組件  2.0\n",
       "10     1568 倉佑  1568  汽車組件  2.0\n",
       "12  2115 六暉-KY  2115  汽車組件  2.0\n",
       "13     2228 劍麟  2228  汽車組件  2.0\n",
       "18    2497 怡利電  2497  汽車組件  2.0\n",
       "21  4557 永新-KY  4557  汽車組件  2.0\n",
       "22  5288 豐祥-KY  5288  汽車組件  2.0"
      ]
     },
     "execution_count": 34,
     "metadata": {},
     "output_type": "execute_result"
    }
   ],
   "source": [
    "predict_data = pd.read_csv(\"predict_data-set.csv\")\n",
    "predict_data = predict_data[predict_data[\"TEJ子產業_名稱\"] == \"汽車組件\"]\n",
    "\n",
    "company_list = np.array([predict_data[\"公司\"]]).reshape(len(predict_data[\"公司\"]), )\n",
    "company_code = np.array([predict_data[\"code\"]]).reshape(len(predict_data[\"code\"]), )\n",
    "company_type = np.array([predict_data[\"TEJ子產業_名稱\"]]).reshape(len(predict_data[\"code\"]), )\n",
    "\n",
    "predict_data.drop([\"公司\", \"TEJ子產業_名稱\",\"date\", \"code\"], axis = 1, inplace = True)\n",
    "\n",
    "#將data轉成array\n",
    "xx = np.zeros([len(predict_data), 1])\n",
    "for ix in predict_data.columns:\n",
    "    xx = np.append(xx, np.array(predict_data[\"{}\".format(ix)]).reshape(len(predict_data), 1), axis = 1)\n",
    "xx = xx[:, 1:]\n",
    "X = xx\n",
    "\n",
    "recommand_list_car = pd.DataFrame(list(zip(company_list, company_code, company_type, clf.predict(X))))\n",
    "recommand_list_car = recommand_list_car[recommand_list_car[3] == 2]\n",
    "recommand_list_car"
   ]
  },
  {
   "cell_type": "markdown",
   "metadata": {},
   "source": [
    "## 連接器"
   ]
  },
  {
   "cell_type": "code",
   "execution_count": 35,
   "metadata": {},
   "outputs": [
    {
     "data": {
      "text/plain": [
       "array([[<matplotlib.axes._subplots.AxesSubplot object at 0x00000297EE223390>]], dtype=object)"
      ]
     },
     "execution_count": 35,
     "metadata": {},
     "output_type": "execute_result"
    },
    {
     "data": {
      "image/png": "[encoded data removed]",
      "text/plain": [
       "<matplotlib.figure.Figure at 0x297ee1fb160>"
      ]
     },
     "metadata": {},
     "output_type": "display_data"
    }
   ],
   "source": [
    "data = pd.read_csv(\"data_set.csv\")\n",
    "\n",
    "#將財報名稱中的Q剔除\n",
    "\n",
    "data_columns = np.array([data.columns]).reshape(len(data.columns), )\n",
    "\n",
    "for i in range(len(data_columns)):\n",
    "    if (data_columns[i][0] == \"Q\"):\n",
    "        data_columns[i] = data_columns[i][1:]\n",
    "    else:\n",
    "        data_columns[i] = data_columns[i]\n",
    "\n",
    "data.columns = data_columns\n",
    "\n",
    "#選擇產業類別\n",
    "\n",
    "data = data[data.TEJ子產業_名稱 == '連接器']\n",
    "\n",
    "data.drop([\"公司\", \"TEJ子產業_名稱\",\"date\", \"code\"], axis = 1, inplace = True)\n",
    "\n",
    "Return = np.array(data[\"return\"])\n",
    "\n",
    "for i in range(0, len(Return)):\n",
    "    if Return[i] < 0.09:\n",
    "        Return[i] = 1\n",
    "    else:\n",
    "        Return[i] =2\n",
    "##看各群組數量      \n",
    "pd.DataFrame(Return).hist()"
   ]
  },
  {
   "cell_type": "code",
   "execution_count": 36,
   "metadata": {
    "collapsed": true
   },
   "outputs": [],
   "source": [
    "#將return label拿掉\n",
    "X = data.drop(\"return\", axis = 1)\n",
    "\n",
    "#將data轉成array\n",
    "xx = np.zeros([len(data), 1])\n",
    "for ix in X.columns:\n",
    "    xx = np.append(xx, np.array(X[\"{}\".format(ix)]).reshape(len(data), 1), axis = 1)\n",
    "xx = xx[:, 1:]\n",
    "X = xx\n",
    "\n",
    "Y = Return"
   ]
  },
  {
   "cell_type": "code",
   "execution_count": 37,
   "metadata": {},
   "outputs": [
    {
     "name": "stdout",
     "output_type": "stream",
     "text": [
      "Accuracy_train : 73.40% \n",
      "Accuracy_test  : 70.73%\n"
     ]
    }
   ],
   "source": [
    "from sklearn.model_selection import train_test_split\n",
    "x_train, x_test, y_train, y_test =  train_test_split(X, Y, test_size = 0.3, random_state = 66)\n",
    "\n",
    "from sklearn.ensemble import RandomForestClassifier\n",
    "clf = RandomForestClassifier(criterion = \"gini\", \n",
    "                             n_estimators = 5,  \n",
    "                             random_state = 31, \n",
    "                             max_features = 0.6, #0.2 ,0.6\n",
    "                             max_depth = 7,      \n",
    "                             min_samples_leaf = 12) \n",
    "\n",
    "clf.fit(x_train, y_train)\n",
    "z = clf.predict(x_train)\n",
    "\n",
    "y_predict_test = clf.predict(x_test)\n",
    "\n",
    "from sklearn.metrics import accuracy_score\n",
    "\n",
    "train_acc = accuracy_score(y_train, z)\n",
    "test_acc = accuracy_score(y_test, y_predict_test)\n",
    "\n",
    "print(\"Accuracy_train : %.2f%%\" % (train_acc * 100.0),\"\\n\"\n",
    "      \"Accuracy_test  : %.2f%%\" % (test_acc * 100.0))"
   ]
  },
  {
   "cell_type": "code",
   "execution_count": 38,
   "metadata": {},
   "outputs": [
    {
     "data": {
      "text/plain": [
       "array([[<matplotlib.axes._subplots.AxesSubplot object at 0x00000297EE16E470>]], dtype=object)"
      ]
     },
     "execution_count": 38,
     "metadata": {},
     "output_type": "execute_result"
    },
    {
     "data": {
      "image/png": "[encoded data removed]",
      "text/plain": [
       "<matplotlib.figure.Figure at 0x297ee223a90>"
      ]
     },
     "metadata": {},
     "output_type": "display_data"
    }
   ],
   "source": [
    "pd.DataFrame((y_predict_test - y_test)).hist()"
   ]
  },
  {
   "cell_type": "code",
   "execution_count": 39,
   "metadata": {},
   "outputs": [
    {
     "data": {
      "text/plain": [
       "array([[12,  9],\n",
       "       [ 3, 17]], dtype=int64)"
      ]
     },
     "execution_count": 39,
     "metadata": {},
     "output_type": "execute_result"
    }
   ],
   "source": [
    "from sklearn.metrics import confusion_matrix\n",
    "\n",
    "confusion_matrix(y_test, y_predict_test)"
   ]
  },
  {
   "cell_type": "code",
   "execution_count": 40,
   "metadata": {},
   "outputs": [
    {
     "name": "stdout",
     "output_type": "stream",
     "text": [
      "Normalized confusion matrix\n",
      "[[ 0.57142857  0.42857143]\n",
      " [ 0.15        0.85      ]]\n"
     ]
    },
    {
     "data": {
      "image/png": "[encoded data removed]",
      "text/plain": [
       "<matplotlib.figure.Figure at 0x297edf04668>"
      ]
     },
     "metadata": {},
     "output_type": "display_data"
    }
   ],
   "source": [
    "plot_confusion_matrix(confusion_matrix(y_test, y_predict_test), classes = [\"1\", \"2\"], normalize = True)"
   ]
  },
  {
   "cell_type": "code",
   "execution_count": 41,
   "metadata": {},
   "outputs": [
    {
     "data": {
      "text/html": [
       "<div>\n",
       "<style>\n",
       "    .dataframe thead tr:only-child th {\n",
       "        text-align: right;\n",
       "    }\n",
       "\n",
       "    .dataframe thead th {\n",
       "        text-align: left;\n",
       "    }\n",
       "\n",
       "    .dataframe tbody tr th {\n",
       "        vertical-align: top;\n",
       "    }\n",
       "</style>\n",
       "<table border=\"1\" class=\"dataframe\">\n",
       "  <thead>\n",
       "    <tr style=\"text-align: right;\">\n",
       "      <th></th>\n",
       "      <th>0</th>\n",
       "      <th>1</th>\n",
       "    </tr>\n",
       "  </thead>\n",
       "  <tbody>\n",
       "    <tr>\n",
       "      <th>56</th>\n",
       "      <td>應付帳款付現天數</td>\n",
       "      <td>0.117281</td>\n",
       "    </tr>\n",
       "    <tr>\n",
       "      <th>34</th>\n",
       "      <td>總資產成長率</td>\n",
       "      <td>0.115109</td>\n",
       "    </tr>\n",
       "    <tr>\n",
       "      <th>58</th>\n",
       "      <td>每人營收</td>\n",
       "      <td>0.102203</td>\n",
       "    </tr>\n",
       "    <tr>\n",
       "      <th>7</th>\n",
       "      <td>營業利益率</td>\n",
       "      <td>0.099013</td>\n",
       "    </tr>\n",
       "    <tr>\n",
       "      <th>6</th>\n",
       "      <td>已實現銷貨毛利率</td>\n",
       "      <td>0.098538</td>\n",
       "    </tr>\n",
       "    <tr>\n",
       "      <th>11</th>\n",
       "      <td>常續利益率(稅後)</td>\n",
       "      <td>0.086566</td>\n",
       "    </tr>\n",
       "    <tr>\n",
       "      <th>38</th>\n",
       "      <td>營業利益變動率</td>\n",
       "      <td>0.084614</td>\n",
       "    </tr>\n",
       "    <tr>\n",
       "      <th>59</th>\n",
       "      <td>每人營業利益</td>\n",
       "      <td>0.072747</td>\n",
       "    </tr>\n",
       "    <tr>\n",
       "      <th>19</th>\n",
       "      <td>每股淨值 (C)</td>\n",
       "      <td>0.053323</td>\n",
       "    </tr>\n",
       "    <tr>\n",
       "      <th>22</th>\n",
       "      <td>每股營業額(元)</td>\n",
       "      <td>0.051194</td>\n",
       "    </tr>\n",
       "    <tr>\n",
       "      <th>4</th>\n",
       "      <td>淨值報酬率─常續性利益</td>\n",
       "      <td>0.042638</td>\n",
       "    </tr>\n",
       "    <tr>\n",
       "      <th>42</th>\n",
       "      <td>利息支出率</td>\n",
       "      <td>0.033697</td>\n",
       "    </tr>\n",
       "    <tr>\n",
       "      <th>37</th>\n",
       "      <td>營收變動率</td>\n",
       "      <td>0.028181</td>\n",
       "    </tr>\n",
       "    <tr>\n",
       "      <th>50</th>\n",
       "      <td>應收帳款週轉率(次)</td>\n",
       "      <td>0.014896</td>\n",
       "    </tr>\n",
       "  </tbody>\n",
       "</table>\n",
       "</div>"
      ],
      "text/plain": [
       "              0         1\n",
       "56     應付帳款付現天數  0.117281\n",
       "34       總資產成長率  0.115109\n",
       "58         每人營收  0.102203\n",
       "7         營業利益率  0.099013\n",
       "6      已實現銷貨毛利率  0.098538\n",
       "11    常續利益率(稅後)  0.086566\n",
       "38      營業利益變動率  0.084614\n",
       "59       每人營業利益  0.072747\n",
       "19     每股淨值 (C)  0.053323\n",
       "22     每股營業額(元)  0.051194\n",
       "4   淨值報酬率─常續性利益  0.042638\n",
       "42        利息支出率  0.033697\n",
       "37        營收變動率  0.028181\n",
       "50   應收帳款週轉率(次)  0.014896"
      ]
     },
     "execution_count": 41,
     "metadata": {},
     "output_type": "execute_result"
    }
   ],
   "source": [
    "importance = pd.DataFrame(list(zip(data.drop(\"return\", axis = 1).columns, clf.feature_importances_)))\n",
    "importance.sort_values(by = 1, ascending = False, inplace = True)\n",
    "importance[importance[1] > 0]"
   ]
  },
  {
   "cell_type": "code",
   "execution_count": 42,
   "metadata": {},
   "outputs": [
    {
     "data": {
      "image/png": "[encoded data removed]",
      "text/plain": [
       "<matplotlib.figure.Figure at 0x297ee0298d0>"
      ]
     },
     "metadata": {},
     "output_type": "display_data"
    }
   ],
   "source": [
    "from matplotlib.font_manager import FontProperties\n",
    "font = FontProperties(fname=r\"c:\\windows\\Fonts\\SimSun.ttc\", size=15)\n",
    "\n",
    "objects = importance[0][importance[1] > 0].values\n",
    "y_pos = np.arange(len(objects))\n",
    "performance = importance[1][importance[1] > 0]\n",
    "\n",
    "plt.figure(figsize = (20, 10))\n",
    "plt.bar(y_pos, performance, align='center', alpha=0.5, color = \"grey\")\n",
    "plt.xticks(y_pos, objects, rotation = 90, fontproperties=font)\n",
    "plt.ylabel(u'重要程度', fontproperties=font, size = 25)\n",
    "plt.title('財務指標重要程度', fontproperties=font, size = 30)\n",
    "plt.tight_layout()\n",
    "plt.show()"
   ]
  },
  {
   "cell_type": "code",
   "execution_count": 43,
   "metadata": {},
   "outputs": [
    {
     "data": {
      "text/html": [
       "<div>\n",
       "<style>\n",
       "    .dataframe thead tr:only-child th {\n",
       "        text-align: right;\n",
       "    }\n",
       "\n",
       "    .dataframe thead th {\n",
       "        text-align: left;\n",
       "    }\n",
       "\n",
       "    .dataframe tbody tr th {\n",
       "        vertical-align: top;\n",
       "    }\n",
       "</style>\n",
       "<table border=\"1\" class=\"dataframe\">\n",
       "  <thead>\n",
       "    <tr style=\"text-align: right;\">\n",
       "      <th></th>\n",
       "      <th>0</th>\n",
       "      <th>1</th>\n",
       "      <th>2</th>\n",
       "      <th>3</th>\n",
       "    </tr>\n",
       "  </thead>\n",
       "  <tbody>\n",
       "    <tr>\n",
       "      <th>0</th>\n",
       "      <td>2328 廣宇</td>\n",
       "      <td>2328</td>\n",
       "      <td>連接器</td>\n",
       "      <td>2.0</td>\n",
       "    </tr>\n",
       "    <tr>\n",
       "      <th>1</th>\n",
       "      <td>2392 正崴</td>\n",
       "      <td>2392</td>\n",
       "      <td>連接器</td>\n",
       "      <td>2.0</td>\n",
       "    </tr>\n",
       "    <tr>\n",
       "      <th>2</th>\n",
       "      <td>2440 太空梭</td>\n",
       "      <td>2440</td>\n",
       "      <td>連接器</td>\n",
       "      <td>2.0</td>\n",
       "    </tr>\n",
       "    <tr>\n",
       "      <th>4</th>\n",
       "      <td>3011 今皓</td>\n",
       "      <td>3011</td>\n",
       "      <td>連接器</td>\n",
       "      <td>2.0</td>\n",
       "    </tr>\n",
       "    <tr>\n",
       "      <th>5</th>\n",
       "      <td>3021 鴻名</td>\n",
       "      <td>3021</td>\n",
       "      <td>連接器</td>\n",
       "      <td>2.0</td>\n",
       "    </tr>\n",
       "    <tr>\n",
       "      <th>6</th>\n",
       "      <td>3023 信邦</td>\n",
       "      <td>3023</td>\n",
       "      <td>連接器</td>\n",
       "      <td>2.0</td>\n",
       "    </tr>\n",
       "    <tr>\n",
       "      <th>9</th>\n",
       "      <td>3501 維熹</td>\n",
       "      <td>3501</td>\n",
       "      <td>連接器</td>\n",
       "      <td>2.0</td>\n",
       "    </tr>\n",
       "    <tr>\n",
       "      <th>10</th>\n",
       "      <td>3665 貿聯-KY</td>\n",
       "      <td>3665</td>\n",
       "      <td>連接器</td>\n",
       "      <td>2.0</td>\n",
       "    </tr>\n",
       "    <tr>\n",
       "      <th>11</th>\n",
       "      <td>4943 康控-KY</td>\n",
       "      <td>4943</td>\n",
       "      <td>連接器</td>\n",
       "      <td>2.0</td>\n",
       "    </tr>\n",
       "    <tr>\n",
       "      <th>12</th>\n",
       "      <td>6115 鎰勝</td>\n",
       "      <td>6115</td>\n",
       "      <td>連接器</td>\n",
       "      <td>2.0</td>\n",
       "    </tr>\n",
       "    <tr>\n",
       "      <th>13</th>\n",
       "      <td>6133 金橋</td>\n",
       "      <td>6133</td>\n",
       "      <td>連接器</td>\n",
       "      <td>2.0</td>\n",
       "    </tr>\n",
       "    <tr>\n",
       "      <th>15</th>\n",
       "      <td>6197 佳必琪</td>\n",
       "      <td>6197</td>\n",
       "      <td>連接器</td>\n",
       "      <td>2.0</td>\n",
       "    </tr>\n",
       "  </tbody>\n",
       "</table>\n",
       "</div>"
      ],
      "text/plain": [
       "             0     1    2    3\n",
       "0      2328 廣宇  2328  連接器  2.0\n",
       "1      2392 正崴  2392  連接器  2.0\n",
       "2     2440 太空梭  2440  連接器  2.0\n",
       "4      3011 今皓  3011  連接器  2.0\n",
       "5      3021 鴻名  3021  連接器  2.0\n",
       "6      3023 信邦  3023  連接器  2.0\n",
       "9      3501 維熹  3501  連接器  2.0\n",
       "10  3665 貿聯-KY  3665  連接器  2.0\n",
       "11  4943 康控-KY  4943  連接器  2.0\n",
       "12     6115 鎰勝  6115  連接器  2.0\n",
       "13     6133 金橋  6133  連接器  2.0\n",
       "15    6197 佳必琪  6197  連接器  2.0"
      ]
     },
     "execution_count": 43,
     "metadata": {},
     "output_type": "execute_result"
    }
   ],
   "source": [
    "predict_data = pd.read_csv(\"predict_data-set.csv\")\n",
    "predict_data = predict_data[predict_data[\"TEJ子產業_名稱\"] == \"連接器\"]\n",
    "\n",
    "company_list = np.array([predict_data[\"公司\"]]).reshape(len(predict_data[\"公司\"]), )\n",
    "company_code = np.array([predict_data[\"code\"]]).reshape(len(predict_data[\"code\"]), )\n",
    "company_type = np.array([predict_data[\"TEJ子產業_名稱\"]]).reshape(len(predict_data[\"code\"]), )\n",
    "\n",
    "predict_data.drop([\"公司\", \"TEJ子產業_名稱\",\"date\", \"code\"], axis = 1, inplace = True)\n",
    "\n",
    "#將data轉成array\n",
    "xx = np.zeros([len(predict_data), 1])\n",
    "for ix in predict_data.columns:\n",
    "    xx = np.append(xx, np.array(predict_data[\"{}\".format(ix)]).reshape(len(predict_data), 1), axis = 1)\n",
    "xx = xx[:, 1:]\n",
    "X = xx\n",
    "\n",
    "recommand_list_connection = pd.DataFrame(list(zip(company_list, company_code, company_type, clf.predict(X))))\n",
    "recommand_list_connection = recommand_list_connection[recommand_list_connection[3] == 2]\n",
    "recommand_list_connection"
   ]
  },
  {
   "cell_type": "markdown",
   "metadata": {},
   "source": [
    "## 零組件代理"
   ]
  },
  {
   "cell_type": "code",
   "execution_count": 44,
   "metadata": {},
   "outputs": [
    {
     "data": {
      "text/plain": [
       "array([[<matplotlib.axes._subplots.AxesSubplot object at 0x00000297EE5231D0>]], dtype=object)"
      ]
     },
     "execution_count": 44,
     "metadata": {},
     "output_type": "execute_result"
    },
    {
     "data": {
      "image/png": "[encoded data removed]",
      "text/plain": [
       "<matplotlib.figure.Figure at 0x297ee52a898>"
      ]
     },
     "metadata": {},
     "output_type": "display_data"
    }
   ],
   "source": [
    "data = pd.read_csv(\"data_set.csv\")\n",
    "\n",
    "#將財報名稱中的Q剔除\n",
    "\n",
    "data_columns = np.array([data.columns]).reshape(len(data.columns), )\n",
    "\n",
    "for i in range(len(data_columns)):\n",
    "    if (data_columns[i][0] == \"Q\"):\n",
    "        data_columns[i] = data_columns[i][1:]\n",
    "    else:\n",
    "        data_columns[i] = data_columns[i]\n",
    "\n",
    "data.columns = data_columns\n",
    "\n",
    "#選擇產業類別\n",
    "\n",
    "data = data[data.TEJ子產業_名稱 == '零組件代理']\n",
    "\n",
    "data.drop([\"公司\", \"TEJ子產業_名稱\",\"date\", \"code\"], axis = 1, inplace = True)\n",
    "\n",
    "Return = np.array(data[\"return\"])\n",
    "\n",
    "for i in range(0, len(Return)):\n",
    "    if Return[i] < 0.104:\n",
    "        Return[i] = 1\n",
    "    else:\n",
    "        Return[i] =2\n",
    "##看各群組數量      \n",
    "pd.DataFrame(Return).hist()"
   ]
  },
  {
   "cell_type": "code",
   "execution_count": 45,
   "metadata": {
    "collapsed": true
   },
   "outputs": [],
   "source": [
    "#將return label拿掉\n",
    "X = data.drop(\"return\", axis = 1)\n",
    "\n",
    "#將data轉成array\n",
    "xx = np.zeros([len(data), 1])\n",
    "for ix in X.columns:\n",
    "    xx = np.append(xx, np.array(X[\"{}\".format(ix)]).reshape(len(data), 1), axis = 1)\n",
    "xx = xx[:, 1:]\n",
    "X = xx\n",
    "\n",
    "Y = Return"
   ]
  },
  {
   "cell_type": "code",
   "execution_count": 46,
   "metadata": {},
   "outputs": [
    {
     "name": "stdout",
     "output_type": "stream",
     "text": [
      "Accuracy_train : 74.70% \n",
      "Accuracy_test  : 72.22%\n"
     ]
    }
   ],
   "source": [
    "from sklearn.model_selection import train_test_split\n",
    "x_train, x_test, y_train, y_test =  train_test_split(X, Y, test_size = 0.3, random_state = 666)\n",
    "\n",
    "from sklearn.ensemble import RandomForestClassifier\n",
    "clf = RandomForestClassifier(criterion = \"gini\", \n",
    "                             n_estimators = 3,  \n",
    "                             random_state = 48, \n",
    "                             max_features = 0.6, #0.2 ,0.6\n",
    "                             max_depth = 7,      \n",
    "                             min_samples_leaf = 12) \n",
    "\n",
    "clf.fit(x_train, y_train)\n",
    "z = clf.predict(x_train)\n",
    "\n",
    "y_predict_test = clf.predict(x_test)\n",
    "\n",
    "from sklearn.metrics import accuracy_score\n",
    "\n",
    "train_acc = accuracy_score(y_train, z)\n",
    "test_acc = accuracy_score(y_test, y_predict_test)\n",
    "\n",
    "print(\"Accuracy_train : %.2f%%\" % (train_acc * 100.0),\"\\n\"\n",
    "      \"Accuracy_test  : %.2f%%\" % (test_acc * 100.0))"
   ]
  },
  {
   "cell_type": "code",
   "execution_count": 47,
   "metadata": {},
   "outputs": [
    {
     "data": {
      "text/plain": [
       "array([[<matplotlib.axes._subplots.AxesSubplot object at 0x00000297EE4FAB00>]], dtype=object)"
      ]
     },
     "execution_count": 47,
     "metadata": {},
     "output_type": "execute_result"
    },
    {
     "data": {
      "image/png": "[encoded data removed]",
      "text/plain": [
       "<matplotlib.figure.Figure at 0x297edf89358>"
      ]
     },
     "metadata": {},
     "output_type": "display_data"
    }
   ],
   "source": [
    "pd.DataFrame((y_predict_test - y_test)).hist()"
   ]
  },
  {
   "cell_type": "code",
   "execution_count": 48,
   "metadata": {},
   "outputs": [
    {
     "data": {
      "text/plain": [
       "array([[17,  2],\n",
       "       [ 8,  9]], dtype=int64)"
      ]
     },
     "execution_count": 48,
     "metadata": {},
     "output_type": "execute_result"
    }
   ],
   "source": [
    "from sklearn.metrics import confusion_matrix\n",
    "\n",
    "confusion_matrix(y_test, y_predict_test)"
   ]
  },
  {
   "cell_type": "code",
   "execution_count": 49,
   "metadata": {},
   "outputs": [
    {
     "name": "stdout",
     "output_type": "stream",
     "text": [
      "Normalized confusion matrix\n",
      "[[ 0.89473684  0.10526316]\n",
      " [ 0.47058824  0.52941176]]\n"
     ]
    },
    {
     "data": {
      "image/png": "[encoded data removed]",
      "text/plain": [
       "<matplotlib.figure.Figure at 0x297edea4a90>"
      ]
     },
     "metadata": {},
     "output_type": "display_data"
    }
   ],
   "source": [
    "plot_confusion_matrix(confusion_matrix(y_test, y_predict_test), classes = [\"1\", \"2\"], normalize = True)"
   ]
  },
  {
   "cell_type": "code",
   "execution_count": 50,
   "metadata": {},
   "outputs": [
    {
     "data": {
      "text/html": [
       "<div>\n",
       "<style>\n",
       "    .dataframe thead tr:only-child th {\n",
       "        text-align: right;\n",
       "    }\n",
       "\n",
       "    .dataframe thead th {\n",
       "        text-align: left;\n",
       "    }\n",
       "\n",
       "    .dataframe tbody tr th {\n",
       "        vertical-align: top;\n",
       "    }\n",
       "</style>\n",
       "<table border=\"1\" class=\"dataframe\">\n",
       "  <thead>\n",
       "    <tr style=\"text-align: right;\">\n",
       "      <th></th>\n",
       "      <th>0</th>\n",
       "      <th>1</th>\n",
       "    </tr>\n",
       "  </thead>\n",
       "  <tbody>\n",
       "    <tr>\n",
       "      <th>15</th>\n",
       "      <td>有息負債利率</td>\n",
       "      <td>0.186843</td>\n",
       "    </tr>\n",
       "    <tr>\n",
       "      <th>30</th>\n",
       "      <td>稅前淨利成長率</td>\n",
       "      <td>0.155643</td>\n",
       "    </tr>\n",
       "    <tr>\n",
       "      <th>52</th>\n",
       "      <td>存貨週轉率 (次)</td>\n",
       "      <td>0.150622</td>\n",
       "    </tr>\n",
       "    <tr>\n",
       "      <th>0</th>\n",
       "      <td>資產報酬率 (C)</td>\n",
       "      <td>0.146490</td>\n",
       "    </tr>\n",
       "    <tr>\n",
       "      <th>63</th>\n",
       "      <td>季底普通股市值</td>\n",
       "      <td>0.101060</td>\n",
       "    </tr>\n",
       "    <tr>\n",
       "      <th>28</th>\n",
       "      <td>已實現銷貨毛利成長率</td>\n",
       "      <td>0.091694</td>\n",
       "    </tr>\n",
       "    <tr>\n",
       "      <th>57</th>\n",
       "      <td>淨營業週期 (日)</td>\n",
       "      <td>0.085997</td>\n",
       "    </tr>\n",
       "    <tr>\n",
       "      <th>32</th>\n",
       "      <td>經常淨利成長率</td>\n",
       "      <td>0.081651</td>\n",
       "    </tr>\n",
       "  </tbody>\n",
       "</table>\n",
       "</div>"
      ],
      "text/plain": [
       "             0         1\n",
       "15      有息負債利率  0.186843\n",
       "30     稅前淨利成長率  0.155643\n",
       "52   存貨週轉率 (次)  0.150622\n",
       "0    資產報酬率 (C)  0.146490\n",
       "63     季底普通股市值  0.101060\n",
       "28  已實現銷貨毛利成長率  0.091694\n",
       "57   淨營業週期 (日)  0.085997\n",
       "32     經常淨利成長率  0.081651"
      ]
     },
     "execution_count": 50,
     "metadata": {},
     "output_type": "execute_result"
    }
   ],
   "source": [
    "importance = pd.DataFrame(list(zip(data.drop(\"return\", axis = 1).columns, clf.feature_importances_)))\n",
    "importance.sort_values(by = 1, ascending = False, inplace = True)\n",
    "importance[importance[1] > 0]"
   ]
  },
  {
   "cell_type": "code",
   "execution_count": 51,
   "metadata": {},
   "outputs": [
    {
     "data": {
      "image/png": "[encoded data removed]",
      "text/plain": [
       "<matplotlib.figure.Figure at 0x297edf02080>"
      ]
     },
     "metadata": {},
     "output_type": "display_data"
    }
   ],
   "source": [
    "from matplotlib.font_manager import FontProperties\n",
    "font = FontProperties(fname=r\"c:\\windows\\Fonts\\SimSun.ttc\", size=15)\n",
    "\n",
    "objects = importance[0][importance[1] > 0].values\n",
    "y_pos = np.arange(len(objects))\n",
    "performance = importance[1][importance[1] > 0]\n",
    "\n",
    "plt.figure(figsize = (20, 10))\n",
    "plt.bar(y_pos, performance, align='center', alpha=0.5, color = \"grey\")\n",
    "plt.xticks(y_pos, objects, rotation = 90, fontproperties=font)\n",
    "plt.ylabel(u'重要程度', fontproperties=font, size = 25)\n",
    "plt.title('財務指標重要程度', fontproperties=font, size = 30)\n",
    "plt.tight_layout()\n",
    "plt.show()"
   ]
  },
  {
   "cell_type": "code",
   "execution_count": 52,
   "metadata": {},
   "outputs": [
    {
     "data": {
      "text/html": [
       "<div>\n",
       "<style>\n",
       "    .dataframe thead tr:only-child th {\n",
       "        text-align: right;\n",
       "    }\n",
       "\n",
       "    .dataframe thead th {\n",
       "        text-align: left;\n",
       "    }\n",
       "\n",
       "    .dataframe tbody tr th {\n",
       "        vertical-align: top;\n",
       "    }\n",
       "</style>\n",
       "<table border=\"1\" class=\"dataframe\">\n",
       "  <thead>\n",
       "    <tr style=\"text-align: right;\">\n",
       "      <th></th>\n",
       "      <th>0</th>\n",
       "      <th>1</th>\n",
       "      <th>2</th>\n",
       "      <th>3</th>\n",
       "    </tr>\n",
       "  </thead>\n",
       "  <tbody>\n",
       "    <tr>\n",
       "      <th>0</th>\n",
       "      <td>2359 所羅門</td>\n",
       "      <td>2359</td>\n",
       "      <td>零組件代理</td>\n",
       "      <td>2.0</td>\n",
       "    </tr>\n",
       "    <tr>\n",
       "      <th>2</th>\n",
       "      <td>3010 華立</td>\n",
       "      <td>3010</td>\n",
       "      <td>零組件代理</td>\n",
       "      <td>2.0</td>\n",
       "    </tr>\n",
       "    <tr>\n",
       "      <th>3</th>\n",
       "      <td>3028 增你強</td>\n",
       "      <td>3028</td>\n",
       "      <td>零組件代理</td>\n",
       "      <td>2.0</td>\n",
       "    </tr>\n",
       "    <tr>\n",
       "      <th>4</th>\n",
       "      <td>3033 威健</td>\n",
       "      <td>3033</td>\n",
       "      <td>零組件代理</td>\n",
       "      <td>2.0</td>\n",
       "    </tr>\n",
       "    <tr>\n",
       "      <th>8</th>\n",
       "      <td>3209 全科</td>\n",
       "      <td>3209</td>\n",
       "      <td>零組件代理</td>\n",
       "      <td>2.0</td>\n",
       "    </tr>\n",
       "    <tr>\n",
       "      <th>9</th>\n",
       "      <td>3312 弘憶股</td>\n",
       "      <td>3312</td>\n",
       "      <td>零組件代理</td>\n",
       "      <td>2.0</td>\n",
       "    </tr>\n",
       "    <tr>\n",
       "      <th>10</th>\n",
       "      <td>3528 安馳</td>\n",
       "      <td>3528</td>\n",
       "      <td>零組件代理</td>\n",
       "      <td>2.0</td>\n",
       "    </tr>\n",
       "    <tr>\n",
       "      <th>11</th>\n",
       "      <td>3702 大聯大</td>\n",
       "      <td>3702</td>\n",
       "      <td>零組件代理</td>\n",
       "      <td>2.0</td>\n",
       "    </tr>\n",
       "  </tbody>\n",
       "</table>\n",
       "</div>"
      ],
      "text/plain": [
       "           0     1      2    3\n",
       "0   2359 所羅門  2359  零組件代理  2.0\n",
       "2    3010 華立  3010  零組件代理  2.0\n",
       "3   3028 增你強  3028  零組件代理  2.0\n",
       "4    3033 威健  3033  零組件代理  2.0\n",
       "8    3209 全科  3209  零組件代理  2.0\n",
       "9   3312 弘憶股  3312  零組件代理  2.0\n",
       "10   3528 安馳  3528  零組件代理  2.0\n",
       "11  3702 大聯大  3702  零組件代理  2.0"
      ]
     },
     "execution_count": 52,
     "metadata": {},
     "output_type": "execute_result"
    }
   ],
   "source": [
    "predict_data = pd.read_csv(\"predict_data-set.csv\")\n",
    "predict_data = predict_data[predict_data[\"TEJ子產業_名稱\"] == \"零組件代理\"]\n",
    "\n",
    "company_list = np.array([predict_data[\"公司\"]]).reshape(len(predict_data[\"公司\"]), )\n",
    "company_code = np.array([predict_data[\"code\"]]).reshape(len(predict_data[\"code\"]), )\n",
    "company_type = np.array([predict_data[\"TEJ子產業_名稱\"]]).reshape(len(predict_data[\"code\"]), )\n",
    "\n",
    "predict_data.drop([\"公司\", \"TEJ子產業_名稱\",\"date\", \"code\"], axis = 1, inplace = True)\n",
    "\n",
    "#將data轉成array\n",
    "xx = np.zeros([len(predict_data), 1])\n",
    "for ix in predict_data.columns:\n",
    "    xx = np.append(xx, np.array(predict_data[\"{}\".format(ix)]).reshape(len(predict_data), 1), axis = 1)\n",
    "xx = xx[:, 1:]\n",
    "X = xx\n",
    "\n",
    "recommand_list_proxy = pd.DataFrame(list(zip(company_list, company_code, company_type, clf.predict(X))))\n",
    "recommand_list_proxy = recommand_list_proxy[recommand_list_proxy[3] == 2]\n",
    "recommand_list_proxy"
   ]
  },
  {
   "cell_type": "markdown",
   "metadata": {},
   "source": [
    "## 統整推薦清單"
   ]
  },
  {
   "cell_type": "code",
   "execution_count": 53,
   "metadata": {},
   "outputs": [
    {
     "data": {
      "text/html": [
       "<div>\n",
       "<style>\n",
       "    .dataframe thead tr:only-child th {\n",
       "        text-align: right;\n",
       "    }\n",
       "\n",
       "    .dataframe thead th {\n",
       "        text-align: left;\n",
       "    }\n",
       "\n",
       "    .dataframe tbody tr th {\n",
       "        vertical-align: top;\n",
       "    }\n",
       "</style>\n",
       "<table border=\"1\" class=\"dataframe\">\n",
       "  <thead>\n",
       "    <tr style=\"text-align: right;\">\n",
       "      <th></th>\n",
       "      <th>公司名稱</th>\n",
       "      <th>股票代碼</th>\n",
       "      <th>產業類別</th>\n",
       "    </tr>\n",
       "  </thead>\n",
       "  <tbody>\n",
       "    <tr>\n",
       "      <th>1</th>\n",
       "      <td>2379 瑞昱</td>\n",
       "      <td>2379</td>\n",
       "      <td>IC設計</td>\n",
       "    </tr>\n",
       "    <tr>\n",
       "      <th>3</th>\n",
       "      <td>2401 凌陽</td>\n",
       "      <td>2401</td>\n",
       "      <td>IC設計</td>\n",
       "    </tr>\n",
       "    <tr>\n",
       "      <th>4</th>\n",
       "      <td>2436 偉詮電</td>\n",
       "      <td>2436</td>\n",
       "      <td>IC設計</td>\n",
       "    </tr>\n",
       "    <tr>\n",
       "      <th>7</th>\n",
       "      <td>3006 晶豪科</td>\n",
       "      <td>3006</td>\n",
       "      <td>IC設計</td>\n",
       "    </tr>\n",
       "    <tr>\n",
       "      <th>9</th>\n",
       "      <td>3035 智原</td>\n",
       "      <td>3035</td>\n",
       "      <td>IC設計</td>\n",
       "    </tr>\n",
       "  </tbody>\n",
       "</table>\n",
       "</div>"
      ],
      "text/plain": [
       "       公司名稱  股票代碼  產業類別\n",
       "1   2379 瑞昱  2379  IC設計\n",
       "3   2401 凌陽  2401  IC設計\n",
       "4  2436 偉詮電  2436  IC設計\n",
       "7  3006 晶豪科  3006  IC設計\n",
       "9   3035 智原  3035  IC設計"
      ]
     },
     "execution_count": 53,
     "metadata": {},
     "output_type": "execute_result"
    }
   ],
   "source": [
    "final_recommand_list = pd.concat([recommand_list_ic_desgin, recommand_list_construct, recommand_list_car, recommand_list_connection, recommand_list_proxy])\n",
    "\n",
    "final_recommand_list.columns = [\"公司名稱\", \"股票代碼\", \"產業類別\", \"推薦與否\"]\n",
    "final_recommand_list.drop(\"推薦與否\", axis = 1, inplace = True)\n",
    "final_recommand_list.head()"
   ]
  },
  {
   "cell_type": "code",
   "execution_count": 54,
   "metadata": {
    "collapsed": true
   },
   "outputs": [],
   "source": [
    "final_recommand_list.to_excel(\"recommand_list.xls\")"
   ]
  },
  {
   "cell_type": "code",
   "execution_count": null,
   "metadata": {
    "collapsed": true
   },
   "outputs": [],
   "source": []
  }
 ],
 "metadata": {
  "kernelspec": {
   "display_name": "Python 3",
   "language": "python",
   "name": "python3"
  },
  "language_info": {
   "codemirror_mode": {
    "name": "ipython",
    "version": 3
   },
   "file_extension": ".py",
   "mimetype": "text/x-python",
   "name": "python",
   "nbconvert_exporter": "python",
   "pygments_lexer": "ipython3",
   "version": "3.6.2"
  }
 },
 "nbformat": 4,
 "nbformat_minor": 2
}
