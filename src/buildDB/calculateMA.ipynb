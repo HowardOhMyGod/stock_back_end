{
 "cells": [
  {
   "cell_type": "code",
   "execution_count": 5,
   "metadata": {
    "collapsed": true
   },
   "outputs": [],
   "source": [
    "'''\n",
    "功能: 在資料庫已經有個股歷史股價資料下，計算每股的MA\n",
    "'''\n",
    "\n",
    "\n",
    "from pymongo import MongoClient\n",
    "import pprint\n",
    "\n",
    "db = MongoClient()['Stock']\n",
    "priceCollect = db['history']\n",
    "\n",
    "pp = pprint.PrettyPrinter(indent = 4)"
   ]
  },
  {
   "cell_type": "code",
   "execution_count": 6,
   "metadata": {
    "collapsed": true
   },
   "outputs": [],
   "source": [
    "allStock = priceCollect.find({})"
   ]
  },
  {
   "cell_type": "code",
   "execution_count": 7,
   "metadata": {
    "collapsed": true
   },
   "outputs": [],
   "source": [
    "import twstock as ts\n",
    "\n",
    "stock = ts.Stock('2330')"
   ]
  },
  {
   "cell_type": "code",
   "execution_count": 8,
   "metadata": {},
   "outputs": [
    {
     "name": "stderr",
     "output_type": "stream",
     "text": [
      "c:\\program files (x86)\\python36-32\\lib\\site-packages\\ipykernel_launcher.py:24: DeprecationWarning: update is deprecated. Use replace_one, update_one or update_many instead.\n"
     ]
    }
   ],
   "source": [
    "MA = {\n",
    "    'MA_5': [],\n",
    "    'MA_10': [],\n",
    "    'MA_20': []\n",
    "}\n",
    "\n",
    "\n",
    "for this_stock in allStock:\n",
    "    all_close = []\n",
    "    history = this_stock['history']\n",
    "    \n",
    "    # print(f'Code: {this_stock[\"code\"]}')\n",
    "    \n",
    "    for days, thisday in enumerate(history):\n",
    "        all_close.append(thisday['close'])\n",
    "        \n",
    "    # print(all_close)\n",
    "        \n",
    "    MA['MA_5'] = stock.moving_average(all_close, 5)\n",
    "    MA['MA_10'] = stock.moving_average(all_close, 10)\n",
    "    MA['MA_20'] = stock.moving_average(all_close, 20)\n",
    "    \n",
    "    #pp.pprint(MA)\n",
    "    priceCollect.update({'code': this_stock['code']}, {'$set': {'MA': MA}})"
   ]
  },
  {
   "cell_type": "code",
   "execution_count": null,
   "metadata": {
    "collapsed": true
   },
   "outputs": [],
   "source": [
    "MA"
   ]
  },
  {
   "cell_type": "code",
   "execution_count": null,
   "metadata": {
    "collapsed": true
   },
   "outputs": [],
   "source": []
  }
 ],
 "metadata": {
  "kernelspec": {
   "display_name": "Python 3",
   "language": "python",
   "name": "python3"
  },
  "language_info": {
   "codemirror_mode": {
    "name": "ipython",
    "version": 3
   },
   "file_extension": ".py",
   "mimetype": "text/x-python",
   "name": "python",
   "nbconvert_exporter": "python",
   "pygments_lexer": "ipython3",
   "version": "3.6.0"
  }
 },
 "nbformat": 4,
 "nbformat_minor": 1
}
