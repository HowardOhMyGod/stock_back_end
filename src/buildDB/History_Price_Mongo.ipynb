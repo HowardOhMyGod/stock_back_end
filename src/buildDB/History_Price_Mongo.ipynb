{
 "cells": [
  {
   "cell_type": "code",
   "execution_count": 17,
   "metadata": {},
   "outputs": [],
   "source": [
    "'''\n",
    "功能: 用TEJ的資料初始化資料庫\n",
    "讀取檔案路徑: \n",
    "1) ../../data/market-1101-1211\n",
    "2) ../../data/mcounter-1101-1208\n",
    "'''\n",
    "\n",
    "import csv\n",
    "import pprint\n",
    "import datetime\n",
    "import copy\n",
    "import re\n",
    "from pymongo.mongo_client import MongoClient\n",
    "\n",
    "pp = pprint.PrettyPrinter(indent = 4)\n",
    "\n",
    "filename = '../../data/counter-1101-1208.csv'\n",
    "dateFormat = '%Y/%m/%d'\n",
    "\n",
    "### hisprice per stock save into MongoDB ###\n",
    "p_dict = {\n",
    "    'code': None,\n",
    "    'history': []\n",
    "}\n",
    "\n",
    "### db config ###\n",
    "client = MongoClient()\n",
    "db = client['Stock']\n",
    "stockCollec = db['price']\n",
    "\n",
    "def appendHis(p_dict, line):\n",
    "    p_dict['history'].append({\n",
    "                'date': datetime.datetime.strptime(line['年月日'], dateFormat),\n",
    "                'open': float(re.sub(',', '', line['開盤價(元)'])),\n",
    "                'high': float(re.sub(',', '', line['最高價(元)'])),\n",
    "                'low': float(re.sub(',', '', line['最低價(元)'])),\n",
    "                'close': float(re.sub(',', '', line['收盤價(元)'])),\n",
    "                'volumn': float(re.sub(',', '', line['成交量(千股)']))\n",
    "            })\n",
    "\n",
    "### read line by line from csv and save to mongoDB ###\n",
    "with open(filename, 'r') as f:\n",
    "    reader = csv.DictReader(f)\n",
    "    currentCode = None\n",
    "    \n",
    "    for i, line in enumerate(reader):\n",
    "        \n",
    "        if currentCode == None or currentCode != line['證券代碼']:\n",
    "            \n",
    "            if currentCode is not None:\n",
    "                thisStock = stockCollec.insert_one(copy.deepcopy(p_dict))\n",
    "                # pp.pprint(thisStock)\n",
    "            \n",
    "            p_dict = {'code': None,'history': []}\n",
    "            currentCode = line['證券代碼']\n",
    "            p_dict['code'] = line['證券代碼'].split(' ')[0]\n",
    "            appendHis(p_dict, line)\n",
    "            \n",
    "        else:\n",
    "            appendHis(p_dict, line)"
   ]
  },
  {
   "cell_type": "code",
   "execution_count": 56,
   "metadata": {
    "collapsed": true
   },
   "outputs": [],
   "source": [
    "start = datetime.datetime(2017, 11, 8, 0, 0, 0)\n",
    "end = datetime.datetime(2017, 11, 15, 0, 0, 0)\n",
    "\n",
    "stockCollec.find_one({'code': '0050'}, {'_id': 0})"
   ]
  },
  {
   "cell_type": "code",
   "execution_count": null,
   "metadata": {
    "collapsed": true
   },
   "outputs": [],
   "source": [
    ""
   ]
  }
 ],
 "metadata": {
  "kernelspec": {
   "display_name": "Python 3",
   "language": "python",
   "name": "python3"
  },
  "language_info": {
   "codemirror_mode": {
    "name": "ipython",
    "version": 3.0
   },
   "file_extension": ".py",
   "mimetype": "text/x-python",
   "name": "python",
   "nbconvert_exporter": "python",
   "pygments_lexer": "ipython3",
   "version": "3.6.0"
  }
 },
 "nbformat": 4,
 "nbformat_minor": 0
}