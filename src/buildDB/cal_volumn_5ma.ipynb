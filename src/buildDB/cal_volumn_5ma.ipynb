{
 "cells": [
  {
   "cell_type": "code",
   "execution_count": 5,
   "metadata": {
    "collapsed": true
   },
   "outputs": [],
   "source": [
    "'''\n",
    "功能: 在資料庫已經有個股歷史股價資料下，計算每日交易張數的5ma\n",
    "'''\n",
    "\n",
    "\n",
    "from pymongo import MongoClient\n",
    "import pprint\n",
    "\n",
    "db = MongoClient()['Stock']\n",
    "priceCollect = db['history']\n",
    "\n",
    "pp = pprint.PrettyPrinter(indent = 4)"
   ]
  },
  {
   "cell_type": "code",
   "execution_count": 6,
   "metadata": {
    "collapsed": true
   },
   "outputs": [],
   "source": [
    "allStock = priceCollect.find({})"
   ]
  },
  {
   "cell_type": "code",
   "execution_count": 7,
   "metadata": {
    "collapsed": true
   },
   "outputs": [],
   "source": [
    "import twstock as ts\n",
    "\n",
    "stock = ts.Stock('2330')"
   ]
  },
  {
   "cell_type": "code",
   "execution_count": 8,
   "metadata": {},
   "outputs": [
    {
     "name": "stderr",
     "output_type": "stream",
     "text": [
      "c:\\program files (x86)\\python36-32\\lib\\site-packages\\ipykernel_launcher.py:17: DeprecationWarning: update is deprecated. Use replace_one, update_one or update_many instead.\n"
     ]
    }
   ],
   "source": [
    "volumn_ma_5 = []\n",
    "\n",
    "for this_stock in allStock:\n",
    "    all_volumn = []\n",
    "    history = this_stock['history']\n",
    "    \n",
    "    # print(f'Code: {this_stock[\"code\"]}')\n",
    "    \n",
    "    for days, thisday in enumerate(history):\n",
    "        all_volumn.append(thisday['volumn'])\n",
    "        \n",
    "    # print(all_close)\n",
    "        \n",
    "    volumn_ma_5 = stock.moving_average(all_volumn, 5)\n",
    "    \n",
    "    #pp.pprint(MA)\n",
    "    priceCollect.update({'code': this_stock['code']}, {'$set': {'volumn_5_ma': volumn_ma_5}})"
   ]
  },
  {
   "cell_type": "code",
   "execution_count": 27,
   "metadata": {},
   "outputs": [
    {
     "data": {
      "text/plain": [
       "{'MA_10': [3.11,\n",
       "  3.08,\n",
       "  3.05,\n",
       "  3.03,\n",
       "  3.01,\n",
       "  2.99,\n",
       "  2.98,\n",
       "  2.96,\n",
       "  2.95,\n",
       "  2.96,\n",
       "  2.95,\n",
       "  2.93,\n",
       "  2.91,\n",
       "  2.89,\n",
       "  2.86],\n",
       " 'MA_20': [3.03, 3.0, 2.98, 2.96, 2.94],\n",
       " 'MA_5': [3.2,\n",
       "  3.17,\n",
       "  3.13,\n",
       "  3.1,\n",
       "  3.05,\n",
       "  3.02,\n",
       "  2.99,\n",
       "  2.97,\n",
       "  2.97,\n",
       "  2.98,\n",
       "  2.97,\n",
       "  2.97,\n",
       "  2.96,\n",
       "  2.94,\n",
       "  2.93,\n",
       "  2.92,\n",
       "  2.89,\n",
       "  2.87,\n",
       "  2.84,\n",
       "  2.79]}"
      ]
     },
     "execution_count": 27,
     "metadata": {},
     "output_type": "execute_result"
    }
   ],
   "source": [
    "MA"
   ]
  },
  {
   "cell_type": "code",
   "execution_count": null,
   "metadata": {
    "collapsed": true
   },
   "outputs": [],
   "source": []
  }
 ],
 "metadata": {
  "kernelspec": {
   "display_name": "Python 3",
   "language": "python",
   "name": "python3"
  },
  "language_info": {
   "codemirror_mode": {
    "name": "ipython",
    "version": 3
   },
   "file_extension": ".py",
   "mimetype": "text/x-python",
   "name": "python",
   "nbconvert_exporter": "python",
   "pygments_lexer": "ipython3",
   "version": "3.6.0"
  }
 },
 "nbformat": 4,
 "nbformat_minor": 1
}
