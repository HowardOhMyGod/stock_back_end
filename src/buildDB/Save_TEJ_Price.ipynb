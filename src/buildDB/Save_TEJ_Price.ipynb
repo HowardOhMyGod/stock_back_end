{
 "cells": [
  {
   "cell_type": "code",
   "execution_count": 5,
   "metadata": {
    "collapsed": true
   },
   "outputs": [],
   "source": [
    "'''\n",
    "功能: 在資料庫已經有資料下，新增個股的資料\n",
    "'''\n",
    "\n",
    "\n",
    "\n",
    "import csv\n",
    "import pprint\n",
    "import datetime\n",
    "import copy\n",
    "import re\n",
    "from pymongo.mongo_client import MongoClient\n",
    "\n",
    "pp = pprint.PrettyPrinter(indent = 4)\n",
    "\n",
    "filename = './data/1207-1208.csv'\n",
    "dateFormat = '%Y/%m/%d'\n",
    "\n",
    "### db config ###\n",
    "client = MongoClient()\n",
    "db = client['Stock']\n",
    "stockCollec = db['price']"
   ]
  },
  {
   "cell_type": "code",
   "execution_count": 9,
   "metadata": {},
   "outputs": [
    {
     "name": "stderr",
     "output_type": "stream",
     "text": [
      "c:\\program files (x86)\\python36-32\\lib\\site-packages\\ipykernel_launcher.py:25: DeprecationWarning: update is deprecated. Use replace_one, update_one or update_many instead.\n"
     ]
    }
   ],
   "source": [
    "def isStockInDB(code):\n",
    "    return stockCollec.find({'code': code}).count() > 0\n",
    "\n",
    "def pack_price(line):\n",
    "    return {\n",
    "        'date': datetime.datetime.strptime(line['年月日'], dateFormat),\n",
    "        'open': float(re.sub(',', '', line['開盤價(元)'])),\n",
    "        'high': float(re.sub(',', '', line['最高價(元)'])),\n",
    "        'low': float(re.sub(',', '', line['最低價(元)'])),\n",
    "        'close': float(re.sub(',', '', line['收盤價(元)'])),\n",
    "        'volumn': float(re.sub(',', '', line['成交量(千股)']))\n",
    "    }\n",
    "\n",
    "with open(filename, 'r') as f:\n",
    "    reader = csv.DictReader(f)\n",
    "    \n",
    "    for i, line in enumerate(reader):\n",
    "        code = line['證券代碼'].split(' ')[0]\n",
    "        \n",
    "        if isStockInDB(code):\n",
    "            thisPrice = pack_price(line)\n",
    "            stockCollec.update({'code': code}, {'$push': {\n",
    "                'history': {\n",
    "                    '$each': [copy.deepcopy(thisPrice)],\n",
    "                    '$sort': {'date': 1}\n",
    "            }}})\n",
    "        else:\n",
    "            thisStock = {'code': code, 'history': [pack_price(line)]}\n",
    "            stockCollec.insert_one(copy.deepcopy(thisStock))"
   ]
  },
  {
   "cell_type": "code",
   "execution_count": null,
   "metadata": {
    "collapsed": true
   },
   "outputs": [],
   "source": [
    ""
   ]
  }
 ],
 "metadata": {
  "kernelspec": {
   "display_name": "Python 3",
   "language": "python",
   "name": "python3"
  },
  "language_info": {
   "codemirror_mode": {
    "name": "ipython",
    "version": 3.0
   },
   "file_extension": ".py",
   "mimetype": "text/x-python",
   "name": "python",
   "nbconvert_exporter": "python",
   "pygments_lexer": "ipython3",
   "version": "3.6.0"
  }
 },
 "nbformat": 4,
 "nbformat_minor": 0
}