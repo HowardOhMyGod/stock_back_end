{
 "cells": [
  {
   "cell_type": "code",
   "execution_count": 1,
   "metadata": {
    "collapsed": true
   },
   "outputs": [],
   "source": [
    "from pymongo import MongoClient\n",
    "import os\n",
    "import csv"
   ]
  },
  {
   "cell_type": "code",
   "execution_count": 28,
   "metadata": {},
   "outputs": [],
   "source": [
    "db = MongoClient(os.environ['local_db'])['Stock']\n",
    "basic_collect = db['basic']"
   ]
  },
  {
   "cell_type": "code",
   "execution_count": 29,
   "metadata": {
    "scrolled": true
   },
   "outputs": [
    {
     "name": "stdout",
     "output_type": "stream",
     "text": [
      "{'name': '瑞昱', 'code': '2379', 'industry_type': 'IC設計', 'risk_level': '2'}\n",
      "{'name': '凌陽', 'code': '2401', 'industry_type': 'IC設計', 'risk_level': '2'}\n",
      "{'name': '偉詮電', 'code': '2436', 'industry_type': 'IC設計', 'risk_level': '2'}\n",
      "{'name': '晶豪科', 'code': '3006', 'industry_type': 'IC設計', 'risk_level': '2'}\n",
      "{'name': '智原', 'code': '3035', 'industry_type': 'IC設計', 'risk_level': '2'}\n",
      "{'name': '虹冠電', 'code': '3257', 'industry_type': 'IC設計', 'risk_level': '2'}\n",
      "{'name': '敦泰', 'code': '3545', 'industry_type': 'IC設計', 'risk_level': '2'}\n",
      "{'name': '通嘉', 'code': '3588', 'industry_type': 'IC設計', 'risk_level': '2'}\n",
      "{'name': '新唐', 'code': '4919', 'industry_type': 'IC設計', 'risk_level': '2'}\n",
      "{'name': '凌通', 'code': '4952', 'industry_type': 'IC設計', 'risk_level': '2'}\n",
      "{'name': '立積', 'code': '4968', 'industry_type': 'IC設計', 'risk_level': '3'}\n",
      "{'name': '松翰', 'code': '5471', 'industry_type': 'IC設計', 'risk_level': '1'}\n",
      "{'name': '盛群', 'code': '6202', 'industry_type': 'IC設計', 'risk_level': '1'}\n",
      "{'name': '矽力-KY', 'code': '6415', 'industry_type': 'IC設計', 'risk_level': '2'}\n",
      "{'name': '愛普', 'code': '6531', 'industry_type': 'IC設計', 'risk_level': '2'}\n",
      "{'name': '華友聯', 'code': '1436', 'industry_type': '建設', 'risk_level': '1'}\n",
      "{'name': '名軒', 'code': '1442', 'industry_type': '建設', 'risk_level': '1'}\n",
      "{'name': '潤隆', 'code': '1808', 'industry_type': '建設', 'risk_level': '1'}\n",
      "{'name': '新美齊', 'code': '2442', 'industry_type': '建設', 'risk_level': '2'}\n",
      "{'name': '國建', 'code': '2501', 'industry_type': '建設', 'risk_level': '1'}\n",
      "{'name': '國揚', 'code': '2505', 'industry_type': '建設', 'risk_level': '1'}\n",
      "{'name': '太子', 'code': '2511', 'industry_type': '建設', 'risk_level': '1'}\n",
      "{'name': '冠德', 'code': '2520', 'industry_type': '建設', 'risk_level': '2'}\n",
      "{'name': '宏盛', 'code': '2534', 'industry_type': '建設', 'risk_level': '1'}\n",
      "{'name': '櫻花建', 'code': '2539', 'industry_type': '建設', 'risk_level': '1'}\n",
      "{'name': '興富發', 'code': '2542', 'industry_type': '建設', 'risk_level': '2'}\n",
      "{'name': '日勝生', 'code': '2547', 'industry_type': '建設', 'risk_level': '2'}\n",
      "{'name': '夆典', 'code': '3052', 'industry_type': '建設', 'risk_level': '1'}\n",
      "{'name': '總太', 'code': '3056', 'industry_type': '建設', 'risk_level': '1'}\n",
      "{'name': '長虹', 'code': '5534', 'industry_type': '建設', 'risk_level': '2'}\n",
      "{'name': '達麗', 'code': '6177', 'industry_type': '建設', 'risk_level': '2'}\n",
      "{'name': '東陽', 'code': '1319', 'industry_type': '汽車組件', 'risk_level': '2'}\n",
      "{'name': '昭輝', 'code': '1339', 'industry_type': '汽車組件', 'risk_level': '2'}\n",
      "{'name': '正道', 'code': '1506', 'industry_type': '汽車組件', 'risk_level': '2'}\n",
      "{'name': '瑞利', 'code': '1512', 'industry_type': '汽車組件', 'risk_level': '3'}\n",
      "{'name': '耿鼎', 'code': '1524', 'industry_type': '汽車組件', 'risk_level': '2'}\n",
      "{'name': '江申', 'code': '1525', 'industry_type': '汽車組件', 'risk_level': '2'}\n",
      "{'name': '車王電', 'code': '1533', 'industry_type': '汽車組件', 'risk_level': '2'}\n",
      "{'name': '倉佑', 'code': '1568', 'industry_type': '汽車組件', 'risk_level': '2'}\n",
      "{'name': '六暉-KY', 'code': '2115', 'industry_type': '汽車組件', 'risk_level': '2'}\n",
      "{'name': '劍麟', 'code': '2228', 'industry_type': '汽車組件', 'risk_level': '2'}\n",
      "{'name': '怡利電', 'code': '2497', 'industry_type': '汽車組件', 'risk_level': '2'}\n",
      "{'name': '永新-KY', 'code': '4557', 'industry_type': '汽車組件', 'risk_level': '2'}\n",
      "{'name': '豐祥-KY', 'code': '5288', 'industry_type': '汽車組件', 'risk_level': '2'}\n",
      "{'name': '廣宇', 'code': '2328', 'industry_type': '連接器', 'risk_level': '2'}\n",
      "{'name': '正崴', 'code': '2392', 'industry_type': '連接器', 'risk_level': '1'}\n",
      "{'name': '太空梭', 'code': '2440', 'industry_type': '連接器', 'risk_level': '2'}\n",
      "{'name': '今皓', 'code': '3011', 'industry_type': '連接器', 'risk_level': '2'}\n",
      "{'name': '鴻名', 'code': '3021', 'industry_type': '連接器', 'risk_level': '2'}\n",
      "{'name': '信邦', 'code': '3023', 'industry_type': '連接器', 'risk_level': '2'}\n",
      "{'name': '維熹', 'code': '3501', 'industry_type': '連接器', 'risk_level': '1'}\n",
      "{'name': '貿聯-KY', 'code': '3665', 'industry_type': '連接器', 'risk_level': '2'}\n",
      "{'name': '康控-KY', 'code': '4943', 'industry_type': '連接器', 'risk_level': '3'}\n",
      "{'name': '鎰勝', 'code': '6115', 'industry_type': '連接器', 'risk_level': '1'}\n",
      "{'name': '金橋', 'code': '6133', 'industry_type': '連接器', 'risk_level': '2'}\n",
      "{'name': '佳必琪', 'code': '6197', 'industry_type': '連接器', 'risk_level': '2'}\n",
      "{'name': '所羅門', 'code': '2359', 'industry_type': '零組件代理', 'risk_level': '2'}\n",
      "{'name': '華立', 'code': '3010', 'industry_type': '零組件代理', 'risk_level': '1'}\n",
      "{'name': '增你強', 'code': '3028', 'industry_type': '零組件代理', 'risk_level': '1'}\n",
      "{'name': '威健', 'code': '3033', 'industry_type': '零組件代理', 'risk_level': '1'}\n",
      "{'name': '全科', 'code': '3209', 'industry_type': '零組件代理', 'risk_level': '1'}\n",
      "{'name': '弘憶股', 'code': '3312', 'industry_type': '零組件代理', 'risk_level': '2'}\n",
      "{'name': '安馳', 'code': '3528', 'industry_type': '零組件代理', 'risk_level': '1'}\n",
      "{'name': '大聯大', 'code': '3702', 'industry_type': '零組件代理', 'risk_level': '1'}\n"
     ]
    }
   ],
   "source": [
    "path = '../../data/recommand_list.csv'\n",
    "with open(path, 'r', encoding = 'utf8') as f:\n",
    "    reader = csv.DictReader(f)\n",
    "    \n",
    "    \n",
    "    for i, line in enumerate(reader):\n",
    "        a_doc = {}\n",
    "        a_doc['name'] = line['\\ufeff公司名稱']\n",
    "        a_doc['code'] = line['股票代碼']\n",
    "        a_doc['industry_type'] = line['產業類別']\n",
    "        a_doc['risk_level'] = line['風險群組']\n",
    "        print(a_doc)\n",
    "        basic_collect.insert_one(a_doc)"
   ]
  },
  {
   "cell_type": "code",
   "execution_count": null,
   "metadata": {
    "collapsed": true
   },
   "outputs": [],
   "source": []
  }
 ],
 "metadata": {
  "kernelspec": {
   "display_name": "Python 3",
   "language": "python",
   "name": "python3"
  },
  "language_info": {
   "codemirror_mode": {
    "name": "ipython",
    "version": 3
   },
   "file_extension": ".py",
   "mimetype": "text/x-python",
   "name": "python",
   "nbconvert_exporter": "python",
   "pygments_lexer": "ipython3",
   "version": "3.6.0"
  }
 },
 "nbformat": 4,
 "nbformat_minor": 2
}
