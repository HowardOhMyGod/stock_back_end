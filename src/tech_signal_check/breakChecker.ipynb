{
 "cells": [
  {
   "cell_type": "code",
   "execution_count": 1,
   "metadata": {
    "collapsed": true
   },
   "outputs": [],
   "source": [
    "import twstock"
   ]
  },
  {
   "cell_type": "code",
   "execution_count": 2,
   "metadata": {
    "collapsed": true
   },
   "outputs": [],
   "source": [
    "stock = twstock.Stock('2330') #取得該支股票歷史價格"
   ]
  },
  {
   "cell_type": "code",
   "execution_count": 3,
   "metadata": {
    "collapsed": true
   },
   "outputs": [],
   "source": [
    "latest_20 = stock.price[-20:]"
   ]
  },
  {
   "cell_type": "code",
   "execution_count": 4,
   "metadata": {},
   "outputs": [
    {
     "name": "stdout",
     "output_type": "stream",
     "text": [
      "[239.1, 239.3, 239.1, 239.7, 240.6, 241.5, 242.0, 241.7, 239.9, 238.4, 235.1, 232.5, 231.9, 231.0, 229.5, 229.6]\n",
      "[240.3, 240.65, 240.4, 239.8, 239.5, 238.3, 237.25, 236.8, 235.45, 233.95, 232.35]\n",
      "[236.32]\n"
     ]
    }
   ],
   "source": [
    "print(stock.moving_average(latest_20, 5))\n",
    "print(stock.moving_average(latest_20, 10))\n",
    "print(stock.moving_average(latest_20, 20))"
   ]
  },
  {
   "cell_type": "code",
   "execution_count": 7,
   "metadata": {},
   "outputs": [
    {
     "data": {
      "text/plain": [
       "([231.0, 229.5, 229.6], [235.45, 233.95, 232.35], 236.32)"
      ]
     },
     "execution_count": 7,
     "metadata": {},
     "output_type": "execute_result"
    }
   ],
   "source": [
    "# 取得今日5, 10, 20的移動平均\n",
    "def getCurrentMA(latest_20):\n",
    "    mv_5_3d = stock.moving_average(latest_20, 5)[-3:]\n",
    "    mv_10_3d = stock.moving_average(latest_20, 10)[-3:]\n",
    "    mv_20_1d = stock.moving_average(latest_20, 20)[-1]\n",
    "    \n",
    "    return (mv_5_3d, mv_10_3d, mv_20_1d)\n",
    "\n",
    "getCurrentMA(latest_20)"
   ]
  },
  {
   "cell_type": "code",
   "execution_count": 23,
   "metadata": {},
   "outputs": [
    {
     "data": {
      "text/plain": [
       "True"
      ]
     },
     "execution_count": 23,
     "metadata": {},
     "output_type": "execute_result"
    }
   ],
   "source": [
    "'''\n",
    "檢查糾結\n",
    "input: MA list, 三日的MA差距\n",
    "'''\n",
    "\n",
    "def isSticky(mv_list, cond_1 = 3, cond_2 = 4, cond_3 = 5):\n",
    "    first = abs(mv_list[2] - mv_list[1][-1]) # 20MA - 10MA\n",
    "    second = abs(mv_list[1][-2] - mv_list[0][-2]) # 10MA - 5MA\n",
    "    third = abs(mv_list[1][-3] - mv_list[0][-3]) # 10MA - 5MA\n",
    "    \n",
    "    return first <= cond_1 and second <= cond_2 and third <= cond_3\n",
    "    \n",
    "isSticky(getCurrentMA(latest_20), 10, 10, 10)"
   ]
  },
  {
   "cell_type": "code",
   "execution_count": 22,
   "metadata": {},
   "outputs": [
    {
     "data": {
      "text/plain": [
       "False"
      ]
     },
     "execution_count": 22,
     "metadata": {},
     "output_type": "execute_result"
    }
   ],
   "source": [
    "'''\n",
    "K棒大小: close/open -1\n",
    "'''\n",
    "\n",
    "def isKsize(close, open_p, size = 5):\n",
    "    return ((close/open_p) - 1)*100 >= size\n",
    "    \n",
    "isKsize(100, 98)"
   ]
  },
  {
   "cell_type": "code",
   "execution_count": 21,
   "metadata": {},
   "outputs": [
    {
     "data": {
      "text/plain": [
       "True"
      ]
     },
     "execution_count": 21,
     "metadata": {},
     "output_type": "execute_result"
    }
   ],
   "source": [
    "'''\n",
    "高價與收盤價距離\n",
    "'''\n",
    "\n",
    "def is_HC_range(close, high, dis = 3):\n",
    "    return high - close <= dis\n",
    "    \n",
    "    \n",
    "is_HC_range(20, 20)"
   ]
  },
  {
   "cell_type": "code",
   "execution_count": 24,
   "metadata": {},
   "outputs": [
    {
     "data": {
      "text/plain": [
       "True"
      ]
     },
     "execution_count": 24,
     "metadata": {},
     "output_type": "execute_result"
    }
   ],
   "source": [
    "'''\n",
    "收盤大於幾倍5MA\n",
    "'''\n",
    "\n",
    "def is_close_big_than_5MA(close, today_5MA, dis = 1):\n",
    "    return close / today_5MA >= dis\n",
    "\n",
    "is_close_big_than_5MA(200, 198)"
   ]
  },
  {
   "cell_type": "code",
   "execution_count": 26,
   "metadata": {},
   "outputs": [
    {
     "name": "stdout",
     "output_type": "stream",
     "text": [
      "True\n",
      "False\n"
     ]
    }
   ],
   "source": [
    "'''\n",
    "成交量大小範圍\n",
    "'''\n",
    "\n",
    "def isVolumn(volumn, dis = (1000,)):\n",
    "    if len(dis) == 1: return volumn >= dis[0]\n",
    "    \n",
    "    return volumn >= dis[0] and volumn <= dis[1]\n",
    "\n",
    "print(isVolumn(1001, (1000,)))\n",
    "print(isVolumn(555, (560, 600)))"
   ]
  },
  {
   "cell_type": "code",
   "execution_count": 57,
   "metadata": {
    "collapsed": true
   },
   "outputs": [],
   "source": [
    "'''\n",
    "檢查有無達成均線糾結向上突破條件\n",
    "'''\n",
    "class BreakChecker:\n",
    "    def __init__(self, code):\n",
    "        self.stock = twstock.Stock(code)\n",
    "        self.latest_20 = self.stock.price[-20:]\n",
    "        self.today_high = self.stock.high[-1]\n",
    "        self.today_close = self.stock.price[-1]\n",
    "        self.today_open = self.stock.open[-1]\n",
    "        self.volumn = self.stock.capacity[-1] / 1000\n",
    "        \n",
    "        self.ma_list = self.getCurrentMA(self.latest_20)\n",
    "        \n",
    "        \n",
    "    # 取得今日5, 10, 20的移動平均\n",
    "    def getCurrentMA(self, latest_20):\n",
    "        mv_5_3d = stock.moving_average(latest_20, 5)[-3:]\n",
    "        mv_10_3d = stock.moving_average(latest_20, 10)[-3:]\n",
    "        mv_20_1d = stock.moving_average(latest_20, 20)[-1]\n",
    "\n",
    "        return (mv_5_3d, mv_10_3d, mv_20_1d)\n",
    "\n",
    "    '''\n",
    "    檢查糾結\n",
    "    input: MA list, 三日的MA差距\n",
    "    '''\n",
    "    def isSticky(self, ma_list, cond_1 = 3, cond_2 = 4, cond_3 = 5):\n",
    "        first = abs(ma_list[2] - ma_list[1][-1]) # 20MA - 10MA\n",
    "        second = abs(ma_list[1][-2] - ma_list[0][-2]) # 10MA - 5MA\n",
    "        third = abs(ma_list[1][-3] - ma_list[0][-3]) # 10MA - 5MA\n",
    "\n",
    "        return first <= cond_1 and second <= cond_2 and third <= cond_3\n",
    "    \n",
    "    '''\n",
    "    K棒大小: close/open -1\n",
    "    '''\n",
    "    def isKsize(self, close, open_p, size = 1):\n",
    "        return ((close/open_p) - 1)*100 >= size\n",
    "    \n",
    "    '''\n",
    "    高價與收盤價距離\n",
    "    '''\n",
    "    def is_HC_range(self, close, high, dis = 5):\n",
    "        return high - close <= dis\n",
    "    \n",
    "    '''\n",
    "    收盤大於幾倍5MA\n",
    "    '''\n",
    "    def is_close_big_than_5MA(self, close, today_5MA, dis = 1):\n",
    "        return close / today_5MA >= dis\n",
    "    \n",
    "    '''\n",
    "    成交量大小範圍\n",
    "    '''\n",
    "    def isVolumn(self, volumn, dis = (500, 1500)):\n",
    "        if len(dis) == 1: return volumn >= dis[0]\n",
    "\n",
    "        return volumn >= dis[0] and volumn <= dis[1]\n",
    "    \n",
    "    '''\n",
    "    主要檢查method\n",
    "    '''\n",
    "    def isBreak(self):\n",
    "        return (self.isSticky(self.ma_list) and \n",
    "                self.isKsize(self.today_close, self.today_open) and\n",
    "                self.is_HC_range(self.today_close, self.today_high) and\n",
    "                self.is_close_big_than_5MA(self.today_close, self.ma_list[0][-1]))"
   ]
  },
  {
   "cell_type": "code",
   "execution_count": 62,
   "metadata": {},
   "outputs": [
    {
     "data": {
      "text/plain": [
       "True"
      ]
     },
     "execution_count": 62,
     "metadata": {},
     "output_type": "execute_result"
    }
   ],
   "source": [
    "breaker = BreakChecker('2634')\n",
    "breaker.isBreak()"
   ]
  },
  {
   "cell_type": "code",
   "execution_count": null,
   "metadata": {},
   "outputs": [],
   "source": [
    ""
   ]
  },
  {
   "cell_type": "code",
   "execution_count": null,
   "metadata": {
    "collapsed": true
   },
   "outputs": [],
   "source": [
    ""
   ]
  }
 ],
 "metadata": {
  "kernelspec": {
   "display_name": "Python 3",
   "language": "python",
   "name": "python3"
  },
  "language_info": {
   "codemirror_mode": {
    "name": "ipython",
    "version": 3.0
   },
   "file_extension": ".py",
   "mimetype": "text/x-python",
   "name": "python",
   "nbconvert_exporter": "python",
   "pygments_lexer": "ipython3",
   "version": "3.6.0"
  }
 },
 "nbformat": 4,
 "nbformat_minor": 0
}